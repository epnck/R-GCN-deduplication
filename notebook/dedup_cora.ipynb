{
 "cells": [
  {
   "cell_type": "code",
   "execution_count": null,
   "id": "h1L-bxhpAq-8",
   "metadata": {
    "ExecuteTime": {
     "end_time": "2024-06-25T10:40:27.810683Z",
     "start_time": "2024-06-25T10:40:27.807802Z"
    },
    "id": "h1L-bxhpAq-8"
   },
   "outputs": [
    {
     "name": "stdout",
     "output_type": "stream",
     "text": [
      "\u001b[33mWARNING: Running pip as the 'root' user can result in broken permissions and conflicting behaviour with the system package manager. It is recommended to use a virtual environment instead: https://pip.pypa.io/warnings/venv\u001b[0m\u001b[33m\n",
      "\u001b[0m\n",
      "\u001b[1m[\u001b[0m\u001b[34;49mnotice\u001b[0m\u001b[1;39;49m]\u001b[0m\u001b[39;49m A new release of pip is available: \u001b[0m\u001b[31;49m24.0\u001b[0m\u001b[39;49m -> \u001b[0m\u001b[32;49m24.2\u001b[0m\n",
      "\u001b[1m[\u001b[0m\u001b[34;49mnotice\u001b[0m\u001b[1;39;49m]\u001b[0m\u001b[39;49m To update, run: \u001b[0m\u001b[32;49mpip install --upgrade pip\u001b[0m\n"
     ]
    }
   ],
   "source": [
    "#pip install torch_geometric > /dev/null\n",
    "#pip install rdflib\n",
    "\n",
    "#!pip install torch  > /dev/null\n",
    "#!pip install scikit-learn > /dev/null"
   ]
  },
  {
   "cell_type": "markdown",
   "id": "1884ec45",
   "metadata": {},
   "source": []
  },
  {
   "cell_type": "code",
   "execution_count": 2,
   "id": "158d166d1fb200d",
   "metadata": {
    "ExecuteTime": {
     "end_time": "2024-06-25T10:40:28.978820Z",
     "start_time": "2024-06-25T10:40:27.811489Z"
    },
    "collapsed": false
   },
   "outputs": [],
   "source": [
    "import  time\n",
    "\n",
    "\n",
    "import torch\n",
    "import random\n",
    "import csv\n"
   ]
  },
  {
   "cell_type": "code",
   "execution_count": 3,
   "id": "f0cc3048",
   "metadata": {},
   "outputs": [
    {
     "name": "stderr",
     "output_type": "stream",
     "text": [
      "/usr/local/lib/python3.10/dist-packages/tqdm/auto.py:21: TqdmWarning: IProgress not found. Please update jupyter and ipywidgets. See https://ipywidgets.readthedocs.io/en/stable/user_install.html\n",
      "  from .autonotebook import tqdm as notebook_tqdm\n"
     ]
    }
   ],
   "source": [
    "from src.gnn import *\n",
    "from src.gnn_utils import *"
   ]
  },
  {
   "cell_type": "markdown",
   "id": "87df7d31-b741-44b4-a997-e17df3218285",
   "metadata": {
    "id": "87df7d31-b741-44b4-a997-e17df3218285"
   },
   "source": [
    "# 1. Data"
   ]
  },
  {
   "cell_type": "code",
   "execution_count": 9,
   "id": "182adee3-c4ac-4a76-9897-5b17c7f42b5f",
   "metadata": {
    "ExecuteTime": {
     "end_time": "2024-06-25T10:40:28.996857Z",
     "start_time": "2024-06-25T10:40:28.979944Z"
    },
    "colab": {
     "base_uri": "https://localhost:8080/"
    },
    "id": "182adee3-c4ac-4a76-9897-5b17c7f42b5f",
    "outputId": "5ddf0fdc-3457-47d5-ace3-e7ce6c00cedd"
   },
   "outputs": [],
   "source": [
    "filename = 'cora_deduped_v2'\n",
    "to_evaluate = [rdflib.term.URIRef('http://www.w3.org/2002/07/owl#sameAs')]"
   ]
  },
  {
   "cell_type": "code",
   "execution_count": 10,
   "id": "2d6be00fa763965e",
   "metadata": {
    "ExecuteTime": {
     "end_time": "2024-06-25T10:40:29.407525Z",
     "start_time": "2024-06-25T10:40:28.997520Z"
    },
    "collapsed": false
   },
   "outputs": [
    {
     "name": "stdout",
     "output_type": "stream",
     "text": [
      "Triplets found: 33351\n"
     ]
    }
   ],
   "source": [
    "(data, train_pos_edge_adj, test_pos_edge_adj, _, nodes_dict, relations_dict) = read_data(filename, to_evaluate, round=1, same_as_fraction_used_training=1)\n",
    "same_as_index = relations_dict[rdflib.term.URIRef('http://www.w3.org/2002/07/owl#sameAs')]\n",
    "relation_ratio = data['train_edge_type'].bincount() / data['train_edge_type'].size(0)\n",
    "num_nodes = len(nodes_dict)\n",
    "num_relations = len(relations_dict.keys())\n",
    "train_loader, test_loader, validation_loader = get_dataloaders(data, to_evaluate, batch_size_train=int(data.train_pos_edge_index.size(1)/4), batch_size_test='all')"
   ]
  },
  {
   "cell_type": "code",
   "execution_count": 11,
   "id": "e4f9265d758ef111",
   "metadata": {
    "ExecuteTime": {
     "end_time": "2024-06-25T10:40:29.427690Z",
     "start_time": "2024-06-25T10:40:29.408493Z"
    },
    "collapsed": false
   },
   "outputs": [
    {
     "data": {
      "text/plain": [
       "Data(edge_index=[2, 33351], edge_type=[33351], test_pos_edge_index=[2, 339], test_edge_type=[339], train_pos_edge_index=[2, 33012], train_edge_type=[33012], test_edge_eval_masks=[1, 339], train_edge_eval_masks=[1, 33012])"
      ]
     },
     "execution_count": 11,
     "metadata": {},
     "output_type": "execute_result"
    }
   ],
   "source": [
    "data"
   ]
  },
  {
   "cell_type": "markdown",
   "id": "fbd34f1e-e8ed-41cb-ade2-598e51112aba",
   "metadata": {
    "id": "fbd34f1e-e8ed-41cb-ade2-598e51112aba"
   },
   "source": [
    "# 2. GNN"
   ]
  },
  {
   "cell_type": "markdown",
   "id": "b4c27ccc-782b-4e6f-813f-10a72e01f989",
   "metadata": {
    "id": "b4c27ccc-782b-4e6f-813f-10a72e01f989"
   },
   "source": [
    "**Train**"
   ]
  },
  {
   "cell_type": "code",
   "execution_count": 12,
   "id": "f440cec2",
   "metadata": {},
   "outputs": [],
   "source": [
    "torch.manual_seed(0)\n",
    "random.seed(0)\n",
    "np.random.seed(0)\n",
    "torch.use_deterministic_algorithms(False)"
   ]
  },
  {
   "cell_type": "code",
   "execution_count": 7,
   "id": "3ad75650-5fe6-4014-be3b-8c90272091bc",
   "metadata": {
    "ExecuteTime": {
     "end_time": "2024-06-25T10:40:40.074529Z",
     "start_time": "2024-06-25T10:40:29.428802Z"
    },
    "colab": {
     "base_uri": "https://localhost:8080/"
    },
    "id": "3ad75650-5fe6-4014-be3b-8c90272091bc",
    "outputId": "e7386f0e-1d36-4451-ba2b-495440e71d01"
   },
   "outputs": [
    {
     "name": "stderr",
     "output_type": "stream",
     "text": [
      "training:   0%|          | 0/5 [00:01<?, ?it/s]\n"
     ]
    },
    {
     "ename": "KeyboardInterrupt",
     "evalue": "",
     "output_type": "error",
     "traceback": [
      "\u001b[0;31m---------------------------------------------------------------------------\u001b[0m",
      "\u001b[0;31mKeyboardInterrupt\u001b[0m                         Traceback (most recent call last)",
      "Cell \u001b[0;32mIn[7], line 6\u001b[0m\n\u001b[1;32m      3\u001b[0m epochs \u001b[38;5;241m=\u001b[39m \u001b[38;5;241m10\u001b[39m\n\u001b[1;32m      5\u001b[0m \u001b[38;5;28;01mfor\u001b[39;00m epoch \u001b[38;5;129;01min\u001b[39;00m \u001b[38;5;28mrange\u001b[39m(epochs):\n\u001b[0;32m----> 6\u001b[0m     loss \u001b[38;5;241m=\u001b[39m \u001b[43mmodel\u001b[49m\u001b[38;5;241;43m.\u001b[39;49m\u001b[43mtrain\u001b[49m\u001b[43m(\u001b[49m\u001b[43mtrain_loader\u001b[49m\u001b[43m,\u001b[49m\u001b[43m \u001b[49m\u001b[43mdata\u001b[49m\u001b[43m[\u001b[49m\u001b[38;5;124;43m'\u001b[39;49m\u001b[38;5;124;43mtrain_pos_edge_index\u001b[39;49m\u001b[38;5;124;43m'\u001b[39;49m\u001b[43m]\u001b[49m\u001b[43m)\u001b[49m\n\u001b[1;32m      8\u001b[0m     \u001b[38;5;28mprint\u001b[39m(\u001b[38;5;124mf\u001b[39m\u001b[38;5;124m'\u001b[39m\u001b[38;5;124mEpoch: \u001b[39m\u001b[38;5;132;01m{\u001b[39;00mepoch\u001b[38;5;132;01m}\u001b[39;00m\u001b[38;5;124m, Loss: \u001b[39m\u001b[38;5;132;01m{\u001b[39;00mloss\u001b[38;5;132;01m:\u001b[39;00m\u001b[38;5;124m.4f\u001b[39m\u001b[38;5;132;01m}\u001b[39;00m\u001b[38;5;124m'\u001b[39m)\n\u001b[1;32m     10\u001b[0m     hits1_train, hits10_train, mr_train, mrr_train \u001b[38;5;241m=\u001b[39m model\u001b[38;5;241m.\u001b[39meval(train_loader, train_pos_edge_adj, to_evaluate)\n",
      "File \u001b[0;32m/app/notebooks/src/gnn.py:91\u001b[0m, in \u001b[0;36mGNN.train\u001b[0;34m(self, data_loader, all_train_indices)\u001b[0m\n\u001b[1;32m     87\u001b[0m data\u001b[38;5;241m.\u001b[39medge_type \u001b[38;5;241m=\u001b[39m data\u001b[38;5;241m.\u001b[39medge_type\u001b[38;5;241m.\u001b[39mto(\u001b[38;5;28mself\u001b[39m\u001b[38;5;241m.\u001b[39mdevice)\n\u001b[1;32m     89\u001b[0m \u001b[38;5;28mself\u001b[39m\u001b[38;5;241m.\u001b[39moptimizer\u001b[38;5;241m.\u001b[39mzero_grad()\n\u001b[0;32m---> 91\u001b[0m z \u001b[38;5;241m=\u001b[39m \u001b[38;5;28;43mself\u001b[39;49m\u001b[38;5;241;43m.\u001b[39;49m\u001b[43mmodel\u001b[49m\u001b[38;5;241;43m.\u001b[39;49m\u001b[43mencode\u001b[49m\u001b[43m(\u001b[49m\u001b[43mdata\u001b[49m\u001b[38;5;241;43m.\u001b[39;49m\u001b[43medge_index\u001b[49m\u001b[43m,\u001b[49m\u001b[43m \u001b[49m\u001b[43mdata\u001b[49m\u001b[38;5;241;43m.\u001b[39;49m\u001b[43medge_type\u001b[49m\u001b[43m)\u001b[49m\n\u001b[1;32m     93\u001b[0m pos_out \u001b[38;5;241m=\u001b[39m \u001b[38;5;28mself\u001b[39m\u001b[38;5;241m.\u001b[39mmodel\u001b[38;5;241m.\u001b[39mdecode(z, data\u001b[38;5;241m.\u001b[39medge_index, data\u001b[38;5;241m.\u001b[39medge_type)\n\u001b[1;32m     95\u001b[0m neg_edge_index \u001b[38;5;241m=\u001b[39m torch\u001b[38;5;241m.\u001b[39mtensor([], dtype\u001b[38;5;241m=\u001b[39mtorch\u001b[38;5;241m.\u001b[39mlong, device\u001b[38;5;241m=\u001b[39m\u001b[38;5;28mself\u001b[39m\u001b[38;5;241m.\u001b[39mdevice)\n",
      "File \u001b[0;32m/usr/local/lib/python3.10/dist-packages/torch_geometric/nn/models/autoencoder.py:86\u001b[0m, in \u001b[0;36mGAE.encode\u001b[0;34m(self, *args, **kwargs)\u001b[0m\n\u001b[1;32m     84\u001b[0m \u001b[38;5;28;01mdef\u001b[39;00m \u001b[38;5;21mencode\u001b[39m(\u001b[38;5;28mself\u001b[39m, \u001b[38;5;241m*\u001b[39margs, \u001b[38;5;241m*\u001b[39m\u001b[38;5;241m*\u001b[39mkwargs) \u001b[38;5;241m-\u001b[39m\u001b[38;5;241m>\u001b[39m Tensor:\n\u001b[1;32m     85\u001b[0m \u001b[38;5;250m    \u001b[39m\u001b[38;5;124mr\u001b[39m\u001b[38;5;124;03m\"\"\"Runs the encoder and computes node-wise latent variables.\"\"\"\u001b[39;00m\n\u001b[0;32m---> 86\u001b[0m     \u001b[38;5;28;01mreturn\u001b[39;00m \u001b[38;5;28;43mself\u001b[39;49m\u001b[38;5;241;43m.\u001b[39;49m\u001b[43mencoder\u001b[49m\u001b[43m(\u001b[49m\u001b[38;5;241;43m*\u001b[39;49m\u001b[43margs\u001b[49m\u001b[43m,\u001b[49m\u001b[43m \u001b[49m\u001b[38;5;241;43m*\u001b[39;49m\u001b[38;5;241;43m*\u001b[39;49m\u001b[43mkwargs\u001b[49m\u001b[43m)\u001b[49m\n",
      "File \u001b[0;32m/usr/local/lib/python3.10/dist-packages/torch/nn/modules/module.py:1736\u001b[0m, in \u001b[0;36mModule._wrapped_call_impl\u001b[0;34m(self, *args, **kwargs)\u001b[0m\n\u001b[1;32m   1734\u001b[0m     \u001b[38;5;28;01mreturn\u001b[39;00m \u001b[38;5;28mself\u001b[39m\u001b[38;5;241m.\u001b[39m_compiled_call_impl(\u001b[38;5;241m*\u001b[39margs, \u001b[38;5;241m*\u001b[39m\u001b[38;5;241m*\u001b[39mkwargs)  \u001b[38;5;66;03m# type: ignore[misc]\u001b[39;00m\n\u001b[1;32m   1735\u001b[0m \u001b[38;5;28;01melse\u001b[39;00m:\n\u001b[0;32m-> 1736\u001b[0m     \u001b[38;5;28;01mreturn\u001b[39;00m \u001b[38;5;28;43mself\u001b[39;49m\u001b[38;5;241;43m.\u001b[39;49m\u001b[43m_call_impl\u001b[49m\u001b[43m(\u001b[49m\u001b[38;5;241;43m*\u001b[39;49m\u001b[43margs\u001b[49m\u001b[43m,\u001b[49m\u001b[43m \u001b[49m\u001b[38;5;241;43m*\u001b[39;49m\u001b[38;5;241;43m*\u001b[39;49m\u001b[43mkwargs\u001b[49m\u001b[43m)\u001b[49m\n",
      "File \u001b[0;32m/usr/local/lib/python3.10/dist-packages/torch/nn/modules/module.py:1747\u001b[0m, in \u001b[0;36mModule._call_impl\u001b[0;34m(self, *args, **kwargs)\u001b[0m\n\u001b[1;32m   1742\u001b[0m \u001b[38;5;66;03m# If we don't have any hooks, we want to skip the rest of the logic in\u001b[39;00m\n\u001b[1;32m   1743\u001b[0m \u001b[38;5;66;03m# this function, and just call forward.\u001b[39;00m\n\u001b[1;32m   1744\u001b[0m \u001b[38;5;28;01mif\u001b[39;00m \u001b[38;5;129;01mnot\u001b[39;00m (\u001b[38;5;28mself\u001b[39m\u001b[38;5;241m.\u001b[39m_backward_hooks \u001b[38;5;129;01mor\u001b[39;00m \u001b[38;5;28mself\u001b[39m\u001b[38;5;241m.\u001b[39m_backward_pre_hooks \u001b[38;5;129;01mor\u001b[39;00m \u001b[38;5;28mself\u001b[39m\u001b[38;5;241m.\u001b[39m_forward_hooks \u001b[38;5;129;01mor\u001b[39;00m \u001b[38;5;28mself\u001b[39m\u001b[38;5;241m.\u001b[39m_forward_pre_hooks\n\u001b[1;32m   1745\u001b[0m         \u001b[38;5;129;01mor\u001b[39;00m _global_backward_pre_hooks \u001b[38;5;129;01mor\u001b[39;00m _global_backward_hooks\n\u001b[1;32m   1746\u001b[0m         \u001b[38;5;129;01mor\u001b[39;00m _global_forward_hooks \u001b[38;5;129;01mor\u001b[39;00m _global_forward_pre_hooks):\n\u001b[0;32m-> 1747\u001b[0m     \u001b[38;5;28;01mreturn\u001b[39;00m \u001b[43mforward_call\u001b[49m\u001b[43m(\u001b[49m\u001b[38;5;241;43m*\u001b[39;49m\u001b[43margs\u001b[49m\u001b[43m,\u001b[49m\u001b[43m \u001b[49m\u001b[38;5;241;43m*\u001b[39;49m\u001b[38;5;241;43m*\u001b[39;49m\u001b[43mkwargs\u001b[49m\u001b[43m)\u001b[49m\n\u001b[1;32m   1749\u001b[0m result \u001b[38;5;241m=\u001b[39m \u001b[38;5;28;01mNone\u001b[39;00m\n\u001b[1;32m   1750\u001b[0m called_always_called_hooks \u001b[38;5;241m=\u001b[39m \u001b[38;5;28mset\u001b[39m()\n",
      "File \u001b[0;32m/app/notebooks/src/gnn.py:32\u001b[0m, in \u001b[0;36mRGCNEncoder.forward\u001b[0;34m(self, edge_index, edge_type)\u001b[0m\n\u001b[1;32m     30\u001b[0m x \u001b[38;5;241m=\u001b[39m \u001b[38;5;28mself\u001b[39m\u001b[38;5;241m.\u001b[39mnode_emb\n\u001b[1;32m     31\u001b[0m \u001b[38;5;28;01mfor\u001b[39;00m i, conv \u001b[38;5;129;01min\u001b[39;00m \u001b[38;5;28menumerate\u001b[39m(\u001b[38;5;28mself\u001b[39m\u001b[38;5;241m.\u001b[39mconvs):\n\u001b[0;32m---> 32\u001b[0m     x \u001b[38;5;241m=\u001b[39m \u001b[43mconv\u001b[49m\u001b[43m(\u001b[49m\u001b[43mx\u001b[49m\u001b[43m,\u001b[49m\u001b[43m \u001b[49m\u001b[43medge_index\u001b[49m\u001b[43m,\u001b[49m\u001b[43m \u001b[49m\u001b[43medge_type\u001b[49m\u001b[43m)\u001b[49m\n\u001b[1;32m     33\u001b[0m     \u001b[38;5;28;01mif\u001b[39;00m i \u001b[38;5;241m!=\u001b[39m \u001b[38;5;28mself\u001b[39m\u001b[38;5;241m.\u001b[39mnum_layers \u001b[38;5;241m-\u001b[39m \u001b[38;5;241m1\u001b[39m:\n\u001b[1;32m     34\u001b[0m         x \u001b[38;5;241m=\u001b[39m x\u001b[38;5;241m.\u001b[39mrelu_()\n",
      "File \u001b[0;32m/usr/local/lib/python3.10/dist-packages/torch/nn/modules/module.py:1736\u001b[0m, in \u001b[0;36mModule._wrapped_call_impl\u001b[0;34m(self, *args, **kwargs)\u001b[0m\n\u001b[1;32m   1734\u001b[0m     \u001b[38;5;28;01mreturn\u001b[39;00m \u001b[38;5;28mself\u001b[39m\u001b[38;5;241m.\u001b[39m_compiled_call_impl(\u001b[38;5;241m*\u001b[39margs, \u001b[38;5;241m*\u001b[39m\u001b[38;5;241m*\u001b[39mkwargs)  \u001b[38;5;66;03m# type: ignore[misc]\u001b[39;00m\n\u001b[1;32m   1735\u001b[0m \u001b[38;5;28;01melse\u001b[39;00m:\n\u001b[0;32m-> 1736\u001b[0m     \u001b[38;5;28;01mreturn\u001b[39;00m \u001b[38;5;28;43mself\u001b[39;49m\u001b[38;5;241;43m.\u001b[39;49m\u001b[43m_call_impl\u001b[49m\u001b[43m(\u001b[49m\u001b[38;5;241;43m*\u001b[39;49m\u001b[43margs\u001b[49m\u001b[43m,\u001b[49m\u001b[43m \u001b[49m\u001b[38;5;241;43m*\u001b[39;49m\u001b[38;5;241;43m*\u001b[39;49m\u001b[43mkwargs\u001b[49m\u001b[43m)\u001b[49m\n",
      "File \u001b[0;32m/usr/local/lib/python3.10/dist-packages/torch/nn/modules/module.py:1747\u001b[0m, in \u001b[0;36mModule._call_impl\u001b[0;34m(self, *args, **kwargs)\u001b[0m\n\u001b[1;32m   1742\u001b[0m \u001b[38;5;66;03m# If we don't have any hooks, we want to skip the rest of the logic in\u001b[39;00m\n\u001b[1;32m   1743\u001b[0m \u001b[38;5;66;03m# this function, and just call forward.\u001b[39;00m\n\u001b[1;32m   1744\u001b[0m \u001b[38;5;28;01mif\u001b[39;00m \u001b[38;5;129;01mnot\u001b[39;00m (\u001b[38;5;28mself\u001b[39m\u001b[38;5;241m.\u001b[39m_backward_hooks \u001b[38;5;129;01mor\u001b[39;00m \u001b[38;5;28mself\u001b[39m\u001b[38;5;241m.\u001b[39m_backward_pre_hooks \u001b[38;5;129;01mor\u001b[39;00m \u001b[38;5;28mself\u001b[39m\u001b[38;5;241m.\u001b[39m_forward_hooks \u001b[38;5;129;01mor\u001b[39;00m \u001b[38;5;28mself\u001b[39m\u001b[38;5;241m.\u001b[39m_forward_pre_hooks\n\u001b[1;32m   1745\u001b[0m         \u001b[38;5;129;01mor\u001b[39;00m _global_backward_pre_hooks \u001b[38;5;129;01mor\u001b[39;00m _global_backward_hooks\n\u001b[1;32m   1746\u001b[0m         \u001b[38;5;129;01mor\u001b[39;00m _global_forward_hooks \u001b[38;5;129;01mor\u001b[39;00m _global_forward_pre_hooks):\n\u001b[0;32m-> 1747\u001b[0m     \u001b[38;5;28;01mreturn\u001b[39;00m \u001b[43mforward_call\u001b[49m\u001b[43m(\u001b[49m\u001b[38;5;241;43m*\u001b[39;49m\u001b[43margs\u001b[49m\u001b[43m,\u001b[49m\u001b[43m \u001b[49m\u001b[38;5;241;43m*\u001b[39;49m\u001b[38;5;241;43m*\u001b[39;49m\u001b[43mkwargs\u001b[49m\u001b[43m)\u001b[49m\n\u001b[1;32m   1749\u001b[0m result \u001b[38;5;241m=\u001b[39m \u001b[38;5;28;01mNone\u001b[39;00m\n\u001b[1;32m   1750\u001b[0m called_always_called_hooks \u001b[38;5;241m=\u001b[39m \u001b[38;5;28mset\u001b[39m()\n",
      "File \u001b[0;32m/usr/local/lib/python3.10/dist-packages/torch_geometric/nn/conv/rgcn_conv.py:216\u001b[0m, in \u001b[0;36mRGCNConv.forward\u001b[0;34m(self, x, edge_index, edge_type)\u001b[0m\n\u001b[1;32m    214\u001b[0m \u001b[38;5;28;01mfor\u001b[39;00m i \u001b[38;5;129;01min\u001b[39;00m \u001b[38;5;28mrange\u001b[39m(\u001b[38;5;28mself\u001b[39m\u001b[38;5;241m.\u001b[39mnum_relations):\n\u001b[1;32m    215\u001b[0m     tmp \u001b[38;5;241m=\u001b[39m masked_edge_index(edge_index, edge_type \u001b[38;5;241m==\u001b[39m i)\n\u001b[0;32m--> 216\u001b[0m     h \u001b[38;5;241m=\u001b[39m \u001b[38;5;28;43mself\u001b[39;49m\u001b[38;5;241;43m.\u001b[39;49m\u001b[43mpropagate\u001b[49m\u001b[43m(\u001b[49m\u001b[43mtmp\u001b[49m\u001b[43m,\u001b[49m\u001b[43m \u001b[49m\u001b[43mx\u001b[49m\u001b[38;5;241;43m=\u001b[39;49m\u001b[43mx_l\u001b[49m\u001b[43m,\u001b[49m\u001b[43m \u001b[49m\u001b[43medge_type_ptr\u001b[49m\u001b[38;5;241;43m=\u001b[39;49m\u001b[38;5;28;43;01mNone\u001b[39;49;00m\u001b[43m,\u001b[49m\u001b[43m \u001b[49m\u001b[43msize\u001b[49m\u001b[38;5;241;43m=\u001b[39;49m\u001b[43msize\u001b[49m\u001b[43m)\u001b[49m\n\u001b[1;32m    217\u001b[0m     h \u001b[38;5;241m=\u001b[39m h\u001b[38;5;241m.\u001b[39mview(\u001b[38;5;241m-\u001b[39m\u001b[38;5;241m1\u001b[39m, weight\u001b[38;5;241m.\u001b[39msize(\u001b[38;5;241m1\u001b[39m), weight\u001b[38;5;241m.\u001b[39msize(\u001b[38;5;241m2\u001b[39m))\n\u001b[1;32m    218\u001b[0m     h \u001b[38;5;241m=\u001b[39m torch\u001b[38;5;241m.\u001b[39meinsum(\u001b[38;5;124m'\u001b[39m\u001b[38;5;124mabc,bcd->abd\u001b[39m\u001b[38;5;124m'\u001b[39m, h, weight[i])\n",
      "File \u001b[0;32m/tmp/torch_geometric.nn.conv.rgcn_conv_RGCNConv_propagate_q8838xy7.py:179\u001b[0m, in \u001b[0;36mpropagate\u001b[0;34m(self, edge_index, x, edge_type_ptr, size)\u001b[0m\n\u001b[1;32m    173\u001b[0m     out \u001b[38;5;241m=\u001b[39m \u001b[38;5;28mself\u001b[39m\u001b[38;5;241m.\u001b[39mupdate(\n\u001b[1;32m    174\u001b[0m         out,\n\u001b[1;32m    175\u001b[0m     )\n\u001b[1;32m    177\u001b[0m \u001b[38;5;28;01melse\u001b[39;00m:\n\u001b[0;32m--> 179\u001b[0m     kwargs \u001b[38;5;241m=\u001b[39m \u001b[38;5;28;43mself\u001b[39;49m\u001b[38;5;241;43m.\u001b[39;49m\u001b[43mcollect\u001b[49m\u001b[43m(\u001b[49m\n\u001b[1;32m    180\u001b[0m \u001b[43m        \u001b[49m\u001b[43medge_index\u001b[49m\u001b[43m,\u001b[49m\n\u001b[1;32m    181\u001b[0m \u001b[43m        \u001b[49m\u001b[43mx\u001b[49m\u001b[43m,\u001b[49m\n\u001b[1;32m    182\u001b[0m \u001b[43m        \u001b[49m\u001b[43medge_type_ptr\u001b[49m\u001b[43m,\u001b[49m\n\u001b[1;32m    183\u001b[0m \u001b[43m        \u001b[49m\u001b[43mmutable_size\u001b[49m\u001b[43m,\u001b[49m\n\u001b[1;32m    184\u001b[0m \u001b[43m    \u001b[49m\u001b[43m)\u001b[49m\n\u001b[1;32m    186\u001b[0m     \u001b[38;5;66;03m# Begin Message Forward Pre Hook #######################################\u001b[39;00m\n\u001b[1;32m    187\u001b[0m     \u001b[38;5;28;01mif\u001b[39;00m \u001b[38;5;129;01mnot\u001b[39;00m torch\u001b[38;5;241m.\u001b[39mjit\u001b[38;5;241m.\u001b[39mis_scripting() \u001b[38;5;129;01mand\u001b[39;00m \u001b[38;5;129;01mnot\u001b[39;00m is_compiling():\n",
      "File \u001b[0;32m/tmp/torch_geometric.nn.conv.rgcn_conv_RGCNConv_propagate_q8838xy7.py:92\u001b[0m, in \u001b[0;36mcollect\u001b[0;34m(self, edge_index, x, edge_type_ptr, size)\u001b[0m\n\u001b[1;32m     90\u001b[0m \u001b[38;5;28;01melif\u001b[39;00m \u001b[38;5;28misinstance\u001b[39m(x, Tensor):\n\u001b[1;32m     91\u001b[0m     \u001b[38;5;28mself\u001b[39m\u001b[38;5;241m.\u001b[39m_set_size(size, j, x)\n\u001b[0;32m---> 92\u001b[0m     x_j \u001b[38;5;241m=\u001b[39m \u001b[38;5;28;43mself\u001b[39;49m\u001b[38;5;241;43m.\u001b[39;49m\u001b[43m_index_select\u001b[49m\u001b[43m(\u001b[49m\u001b[43mx\u001b[49m\u001b[43m,\u001b[49m\u001b[43m \u001b[49m\u001b[43medge_index_j\u001b[49m\u001b[43m)\u001b[49m\n\u001b[1;32m     93\u001b[0m \u001b[38;5;28;01melse\u001b[39;00m:\n\u001b[1;32m     94\u001b[0m     x_j \u001b[38;5;241m=\u001b[39m \u001b[38;5;28;01mNone\u001b[39;00m\n",
      "File \u001b[0;32m/usr/local/lib/python3.10/dist-packages/torch_geometric/nn/conv/message_passing.py:267\u001b[0m, in \u001b[0;36mMessagePassing._index_select\u001b[0;34m(self, src, index)\u001b[0m\n\u001b[1;32m    265\u001b[0m     \u001b[38;5;28;01mreturn\u001b[39;00m src\u001b[38;5;241m.\u001b[39mindex_select(\u001b[38;5;28mself\u001b[39m\u001b[38;5;241m.\u001b[39mnode_dim, index)\n\u001b[1;32m    266\u001b[0m \u001b[38;5;28;01melse\u001b[39;00m:\n\u001b[0;32m--> 267\u001b[0m     \u001b[38;5;28;01mreturn\u001b[39;00m \u001b[38;5;28;43mself\u001b[39;49m\u001b[38;5;241;43m.\u001b[39;49m\u001b[43m_index_select_safe\u001b[49m\u001b[43m(\u001b[49m\u001b[43msrc\u001b[49m\u001b[43m,\u001b[49m\u001b[43m \u001b[49m\u001b[43mindex\u001b[49m\u001b[43m)\u001b[49m\n",
      "File \u001b[0;32m/usr/local/lib/python3.10/dist-packages/torch_geometric/nn/conv/message_passing.py:271\u001b[0m, in \u001b[0;36mMessagePassing._index_select_safe\u001b[0;34m(self, src, index)\u001b[0m\n\u001b[1;32m    269\u001b[0m \u001b[38;5;28;01mdef\u001b[39;00m \u001b[38;5;21m_index_select_safe\u001b[39m(\u001b[38;5;28mself\u001b[39m, src: Tensor, index: Tensor) \u001b[38;5;241m-\u001b[39m\u001b[38;5;241m>\u001b[39m Tensor:\n\u001b[1;32m    270\u001b[0m     \u001b[38;5;28;01mtry\u001b[39;00m:\n\u001b[0;32m--> 271\u001b[0m         \u001b[38;5;28;01mreturn\u001b[39;00m \u001b[43msrc\u001b[49m\u001b[38;5;241;43m.\u001b[39;49m\u001b[43mindex_select\u001b[49m\u001b[43m(\u001b[49m\u001b[38;5;28;43mself\u001b[39;49m\u001b[38;5;241;43m.\u001b[39;49m\u001b[43mnode_dim\u001b[49m\u001b[43m,\u001b[49m\u001b[43m \u001b[49m\u001b[43mindex\u001b[49m\u001b[43m)\u001b[49m\n\u001b[1;32m    272\u001b[0m     \u001b[38;5;28;01mexcept\u001b[39;00m (\u001b[38;5;167;01mIndexError\u001b[39;00m, \u001b[38;5;167;01mRuntimeError\u001b[39;00m) \u001b[38;5;28;01mas\u001b[39;00m e:\n\u001b[1;32m    273\u001b[0m         \u001b[38;5;28;01mif\u001b[39;00m index\u001b[38;5;241m.\u001b[39mnumel() \u001b[38;5;241m>\u001b[39m \u001b[38;5;241m0\u001b[39m \u001b[38;5;129;01mand\u001b[39;00m index\u001b[38;5;241m.\u001b[39mmin() \u001b[38;5;241m<\u001b[39m \u001b[38;5;241m0\u001b[39m:\n",
      "\u001b[0;31mKeyboardInterrupt\u001b[0m: "
     ]
    }
   ],
   "source": [
    "st = time.time()\n",
    "model = GNN(num_nodes=num_nodes, num_relations=num_relations, num_layers=5, hidden_channels=500, learning_rate=1e-2, dropout_prob=0.2, regularization_val=1e-2, same_as_index=same_as_index, relation_ratio=relation_ratio)\n",
    "epochs = 10\n",
    "\n",
    "for epoch in range(epochs):\n",
    "    loss = model.train(train_loader, data['train_pos_edge_index'])\n",
    "    \n",
    "    print(f'Epoch: {epoch}, Loss: {loss:.4f}')\n",
    "    \n",
    "    hits1_train, hits10_train, mr_train, mrr_train = model.eval(train_loader, train_pos_edge_adj, to_evaluate)\n",
    "    for i, relation in enumerate(to_evaluate):\n",
    "        print(f\"\\t{relation.rsplit('#', 1)[1]} --> Train_Hits@1: {hits1_train[i]:.3f}, Train_Hits@10: {hits10_train[i]:.3f}, Train_MR: {mr_train[i]:.3f}, Train_MRR: {mrr_train[i]:.3f}\")\n",
    "        _, _, _, _, _, _, precision_train, recall_train, f1_train = model.eval_PRF(train_loader, i)\n",
    "        print(f\"\\t{relation.rsplit('#', 1)[1]} --> Train_Precision: {precision_train:.3f}, Train_Recall: {recall_train:.3f}, Train_F1: {f1_train:.3f}\")\n",
    "        \n",
    "\n",
    "    print(f'Epoch: {epoch}, Loss: {loss:.4f}')\n",
    "    hits1_test, hits10_test, mr_test, mrr_test = model.eval(test_loader, test_pos_edge_adj, to_evaluate)\n",
    "    for i, relation in enumerate(to_evaluate):\n",
    "        print(f\"\\t{relation.rsplit('#', 1)[1]} --> Test_Hits@1: {hits1_test[i]:.3f}, Test_Hits@10: {hits10_test[i]:.3f} Test_MR: {mr_test[i]:.3f}, Test_MRR: {mrr_test[i]:.3f}\")\n",
    "        _, _, _, _, _, _, precision_test, recall_test, f1_test = model.eval_PRF(test_loader, i)\n",
    "        print(f\"\\t{relation.rsplit('#', 1)[1]} --> Test_Precision: {precision_test:.3f}, Test_Recall: {recall_test:.3f}, Test_F1: {f1_test:.3f}\")\n",
    "        \n",
    "\n",
    "et = time.time()\n",
    "elapsed_time = et - st\n",
    "print(f'Run time: {elapsed_time:.0f} seconds, {elapsed_time/60:.0f} minutes')"
   ]
  },
  {
   "cell_type": "code",
   "execution_count": 13,
   "id": "ca40fdd1",
   "metadata": {},
   "outputs": [
    {
     "data": {
      "text/plain": [
       "device(type='cuda')"
      ]
     },
     "execution_count": 13,
     "metadata": {},
     "output_type": "execute_result"
    }
   ],
   "source": [
    "model.device"
   ]
  },
  {
   "cell_type": "markdown",
   "id": "e1e26b81d5f52b67",
   "metadata": {
    "collapsed": false
   },
   "source": [
    "## Same loop, but writing the results to a file "
   ]
  },
  {
   "cell_type": "code",
   "execution_count": 15,
   "id": "79d0d2f7",
   "metadata": {},
   "outputs": [
    {
     "name": "stdout",
     "output_type": "stream",
     "text": [
      "Epoch: 0/100\n"
     ]
    },
    {
     "name": "stderr",
     "output_type": "stream",
     "text": [
      "training: 100%|██████████| 4/4 [00:02<00:00,  1.52it/s]\n",
      "evaluating: 100%|██████████| 4/4 [00:02<00:00,  1.48it/s]\n",
      "evaluating: 100%|██████████| 1/1 [00:00<00:00,  4.66it/s]\n"
     ]
    },
    {
     "name": "stdout",
     "output_type": "stream",
     "text": [
      "Epoch: 1/100\n"
     ]
    },
    {
     "name": "stderr",
     "output_type": "stream",
     "text": [
      "training: 100%|██████████| 4/4 [00:02<00:00,  1.61it/s]\n",
      "evaluating: 100%|██████████| 4/4 [00:02<00:00,  1.54it/s]\n",
      "evaluating: 100%|██████████| 1/1 [00:00<00:00,  4.27it/s]\n"
     ]
    },
    {
     "name": "stdout",
     "output_type": "stream",
     "text": [
      "Epoch: 2/100\n"
     ]
    },
    {
     "name": "stderr",
     "output_type": "stream",
     "text": [
      "training: 100%|██████████| 4/4 [00:02<00:00,  1.62it/s]\n",
      "evaluating: 100%|██████████| 4/4 [00:02<00:00,  1.50it/s]\n",
      "/usr/local/lib/python3.10/dist-packages/sklearn/metrics/_classification.py:1531: UndefinedMetricWarning: Precision is ill-defined and being set to 0.0 due to no predicted samples. Use `zero_division` parameter to control this behavior.\n",
      "  _warn_prf(average, modifier, f\"{metric.capitalize()} is\", len(result))\n",
      "evaluating: 100%|██████████| 1/1 [00:00<00:00,  4.68it/s]\n",
      "/usr/local/lib/python3.10/dist-packages/sklearn/metrics/_classification.py:1531: UndefinedMetricWarning: Precision is ill-defined and being set to 0.0 due to no predicted samples. Use `zero_division` parameter to control this behavior.\n",
      "  _warn_prf(average, modifier, f\"{metric.capitalize()} is\", len(result))\n"
     ]
    },
    {
     "name": "stdout",
     "output_type": "stream",
     "text": [
      "Epoch: 3/100\n"
     ]
    },
    {
     "name": "stderr",
     "output_type": "stream",
     "text": [
      "training: 100%|██████████| 4/4 [00:02<00:00,  1.65it/s]\n",
      "evaluating: 100%|██████████| 4/4 [00:02<00:00,  1.53it/s]\n",
      "evaluating: 100%|██████████| 1/1 [00:00<00:00,  4.68it/s]\n"
     ]
    },
    {
     "name": "stdout",
     "output_type": "stream",
     "text": [
      "Epoch: 4/100\n"
     ]
    },
    {
     "name": "stderr",
     "output_type": "stream",
     "text": [
      "training: 100%|██████████| 4/4 [00:02<00:00,  1.64it/s]\n",
      "evaluating: 100%|██████████| 4/4 [00:02<00:00,  1.53it/s]\n",
      "evaluating: 100%|██████████| 1/1 [00:00<00:00,  4.70it/s]\n"
     ]
    },
    {
     "name": "stdout",
     "output_type": "stream",
     "text": [
      "Epoch: 5/100\n"
     ]
    },
    {
     "name": "stderr",
     "output_type": "stream",
     "text": [
      "training: 100%|██████████| 4/4 [00:02<00:00,  1.63it/s]\n",
      "evaluating: 100%|██████████| 4/4 [00:02<00:00,  1.54it/s]\n",
      "evaluating: 100%|██████████| 1/1 [00:00<00:00,  4.68it/s]\n"
     ]
    },
    {
     "name": "stdout",
     "output_type": "stream",
     "text": [
      "Epoch: 6/100\n"
     ]
    },
    {
     "name": "stderr",
     "output_type": "stream",
     "text": [
      "training: 100%|██████████| 4/4 [00:02<00:00,  1.62it/s]\n",
      "evaluating: 100%|██████████| 4/4 [00:02<00:00,  1.50it/s]\n",
      "evaluating: 100%|██████████| 1/1 [00:00<00:00,  4.69it/s]\n"
     ]
    },
    {
     "name": "stdout",
     "output_type": "stream",
     "text": [
      "Epoch: 7/100\n"
     ]
    },
    {
     "name": "stderr",
     "output_type": "stream",
     "text": [
      "training: 100%|██████████| 4/4 [00:02<00:00,  1.56it/s]\n",
      "evaluating: 100%|██████████| 4/4 [00:02<00:00,  1.51it/s]\n",
      "evaluating: 100%|██████████| 1/1 [00:00<00:00,  4.70it/s]\n"
     ]
    },
    {
     "name": "stdout",
     "output_type": "stream",
     "text": [
      "Epoch: 8/100\n"
     ]
    },
    {
     "name": "stderr",
     "output_type": "stream",
     "text": [
      "training: 100%|██████████| 4/4 [00:02<00:00,  1.63it/s]\n",
      "evaluating: 100%|██████████| 4/4 [00:02<00:00,  1.53it/s]\n",
      "evaluating: 100%|██████████| 1/1 [00:00<00:00,  4.68it/s]\n"
     ]
    },
    {
     "name": "stdout",
     "output_type": "stream",
     "text": [
      "Epoch: 9/100\n"
     ]
    },
    {
     "name": "stderr",
     "output_type": "stream",
     "text": [
      "training: 100%|██████████| 4/4 [00:02<00:00,  1.63it/s]\n",
      "evaluating: 100%|██████████| 4/4 [00:02<00:00,  1.54it/s]\n",
      "evaluating: 100%|██████████| 1/1 [00:00<00:00,  4.70it/s]\n"
     ]
    },
    {
     "name": "stdout",
     "output_type": "stream",
     "text": [
      "Epoch: 10/100\n"
     ]
    },
    {
     "name": "stderr",
     "output_type": "stream",
     "text": [
      "training: 100%|██████████| 4/4 [00:02<00:00,  1.58it/s]\n",
      "evaluating: 100%|██████████| 4/4 [00:02<00:00,  1.53it/s]\n",
      "evaluating: 100%|██████████| 1/1 [00:00<00:00,  4.70it/s]\n"
     ]
    },
    {
     "name": "stdout",
     "output_type": "stream",
     "text": [
      "Epoch: 11/100\n"
     ]
    },
    {
     "name": "stderr",
     "output_type": "stream",
     "text": [
      "training: 100%|██████████| 4/4 [00:02<00:00,  1.63it/s]\n",
      "evaluating: 100%|██████████| 4/4 [00:02<00:00,  1.50it/s]\n",
      "evaluating: 100%|██████████| 1/1 [00:00<00:00,  4.68it/s]\n"
     ]
    },
    {
     "name": "stdout",
     "output_type": "stream",
     "text": [
      "Epoch: 12/100\n"
     ]
    },
    {
     "name": "stderr",
     "output_type": "stream",
     "text": [
      "training: 100%|██████████| 4/4 [00:02<00:00,  1.65it/s]\n",
      "evaluating: 100%|██████████| 4/4 [00:02<00:00,  1.54it/s]\n",
      "evaluating: 100%|██████████| 1/1 [00:00<00:00,  4.59it/s]\n"
     ]
    },
    {
     "name": "stdout",
     "output_type": "stream",
     "text": [
      "Epoch: 13/100\n"
     ]
    },
    {
     "name": "stderr",
     "output_type": "stream",
     "text": [
      "training: 100%|██████████| 4/4 [00:02<00:00,  1.61it/s]\n",
      "evaluating: 100%|██████████| 4/4 [00:02<00:00,  1.53it/s]\n",
      "evaluating: 100%|██████████| 1/1 [00:00<00:00,  4.70it/s]\n"
     ]
    },
    {
     "name": "stdout",
     "output_type": "stream",
     "text": [
      "Epoch: 14/100\n"
     ]
    },
    {
     "name": "stderr",
     "output_type": "stream",
     "text": [
      "training: 100%|██████████| 4/4 [00:02<00:00,  1.65it/s]\n",
      "evaluating: 100%|██████████| 4/4 [00:02<00:00,  1.48it/s]\n",
      "evaluating: 100%|██████████| 1/1 [00:00<00:00,  4.78it/s]\n"
     ]
    },
    {
     "name": "stdout",
     "output_type": "stream",
     "text": [
      "Epoch: 15/100\n"
     ]
    },
    {
     "name": "stderr",
     "output_type": "stream",
     "text": [
      "training: 100%|██████████| 4/4 [00:03<00:00,  1.30it/s]\n",
      "evaluating: 100%|██████████| 4/4 [00:03<00:00,  1.27it/s]\n",
      "evaluating: 100%|██████████| 1/1 [00:00<00:00,  4.68it/s]\n"
     ]
    },
    {
     "name": "stdout",
     "output_type": "stream",
     "text": [
      "Epoch: 16/100\n"
     ]
    },
    {
     "name": "stderr",
     "output_type": "stream",
     "text": [
      "training: 100%|██████████| 4/4 [00:02<00:00,  1.58it/s]\n",
      "evaluating: 100%|██████████| 4/4 [00:03<00:00,  1.31it/s]\n",
      "evaluating: 100%|██████████| 1/1 [00:00<00:00,  4.67it/s]\n"
     ]
    },
    {
     "name": "stdout",
     "output_type": "stream",
     "text": [
      "Epoch: 17/100\n"
     ]
    },
    {
     "name": "stderr",
     "output_type": "stream",
     "text": [
      "training: 100%|██████████| 4/4 [00:02<00:00,  1.41it/s]\n",
      "evaluating: 100%|██████████| 4/4 [00:02<00:00,  1.43it/s]\n",
      "evaluating: 100%|██████████| 1/1 [00:00<00:00,  4.82it/s]\n"
     ]
    },
    {
     "name": "stdout",
     "output_type": "stream",
     "text": [
      "Epoch: 18/100\n"
     ]
    },
    {
     "name": "stderr",
     "output_type": "stream",
     "text": [
      "training: 100%|██████████| 4/4 [00:02<00:00,  1.44it/s]\n",
      "evaluating: 100%|██████████| 4/4 [00:02<00:00,  1.42it/s]\n",
      "evaluating: 100%|██████████| 1/1 [00:00<00:00,  4.69it/s]\n"
     ]
    },
    {
     "name": "stdout",
     "output_type": "stream",
     "text": [
      "Epoch: 19/100\n"
     ]
    },
    {
     "name": "stderr",
     "output_type": "stream",
     "text": [
      "training: 100%|██████████| 4/4 [00:02<00:00,  1.61it/s]\n",
      "evaluating: 100%|██████████| 4/4 [00:02<00:00,  1.54it/s]\n",
      "evaluating: 100%|██████████| 1/1 [00:00<00:00,  4.67it/s]\n"
     ]
    },
    {
     "name": "stdout",
     "output_type": "stream",
     "text": [
      "Epoch: 20/100\n"
     ]
    },
    {
     "name": "stderr",
     "output_type": "stream",
     "text": [
      "training: 100%|██████████| 4/4 [00:02<00:00,  1.57it/s]\n",
      "evaluating: 100%|██████████| 4/4 [00:02<00:00,  1.51it/s]\n",
      "evaluating: 100%|██████████| 1/1 [00:00<00:00,  4.68it/s]\n"
     ]
    },
    {
     "name": "stdout",
     "output_type": "stream",
     "text": [
      "Epoch: 21/100\n"
     ]
    },
    {
     "name": "stderr",
     "output_type": "stream",
     "text": [
      "training: 100%|██████████| 4/4 [00:02<00:00,  1.51it/s]\n",
      "evaluating: 100%|██████████| 4/4 [00:02<00:00,  1.54it/s]\n",
      "evaluating: 100%|██████████| 1/1 [00:00<00:00,  4.67it/s]\n"
     ]
    },
    {
     "name": "stdout",
     "output_type": "stream",
     "text": [
      "Epoch: 22/100\n"
     ]
    },
    {
     "name": "stderr",
     "output_type": "stream",
     "text": [
      "training: 100%|██████████| 4/4 [00:02<00:00,  1.60it/s]\n",
      "evaluating: 100%|██████████| 4/4 [00:02<00:00,  1.53it/s]\n",
      "evaluating: 100%|██████████| 1/1 [00:00<00:00,  4.68it/s]\n"
     ]
    },
    {
     "name": "stdout",
     "output_type": "stream",
     "text": [
      "Epoch: 23/100\n"
     ]
    },
    {
     "name": "stderr",
     "output_type": "stream",
     "text": [
      "training: 100%|██████████| 4/4 [00:02<00:00,  1.61it/s]\n",
      "evaluating: 100%|██████████| 4/4 [00:02<00:00,  1.53it/s]\n",
      "evaluating: 100%|██████████| 1/1 [00:00<00:00,  4.68it/s]\n"
     ]
    },
    {
     "name": "stdout",
     "output_type": "stream",
     "text": [
      "Epoch: 24/100\n"
     ]
    },
    {
     "name": "stderr",
     "output_type": "stream",
     "text": [
      "training: 100%|██████████| 4/4 [00:02<00:00,  1.62it/s]\n",
      "evaluating: 100%|██████████| 4/4 [00:02<00:00,  1.53it/s]\n",
      "evaluating: 100%|██████████| 1/1 [00:00<00:00,  4.68it/s]\n"
     ]
    },
    {
     "name": "stdout",
     "output_type": "stream",
     "text": [
      "Epoch: 25/100\n"
     ]
    },
    {
     "name": "stderr",
     "output_type": "stream",
     "text": [
      "training: 100%|██████████| 4/4 [00:02<00:00,  1.63it/s]\n",
      "evaluating: 100%|██████████| 4/4 [00:02<00:00,  1.52it/s]\n",
      "evaluating: 100%|██████████| 1/1 [00:00<00:00,  4.67it/s]\n"
     ]
    },
    {
     "name": "stdout",
     "output_type": "stream",
     "text": [
      "Epoch: 26/100\n"
     ]
    },
    {
     "name": "stderr",
     "output_type": "stream",
     "text": [
      "training: 100%|██████████| 4/4 [00:02<00:00,  1.63it/s]\n",
      "evaluating: 100%|██████████| 4/4 [00:02<00:00,  1.53it/s]\n",
      "evaluating: 100%|██████████| 1/1 [00:00<00:00,  4.70it/s]\n"
     ]
    },
    {
     "name": "stdout",
     "output_type": "stream",
     "text": [
      "Epoch: 27/100\n"
     ]
    },
    {
     "name": "stderr",
     "output_type": "stream",
     "text": [
      "training: 100%|██████████| 4/4 [00:02<00:00,  1.63it/s]\n",
      "evaluating: 100%|██████████| 4/4 [00:02<00:00,  1.52it/s]\n",
      "evaluating: 100%|██████████| 1/1 [00:00<00:00,  4.68it/s]\n"
     ]
    },
    {
     "name": "stdout",
     "output_type": "stream",
     "text": [
      "Epoch: 28/100\n"
     ]
    },
    {
     "name": "stderr",
     "output_type": "stream",
     "text": [
      "training: 100%|██████████| 4/4 [00:02<00:00,  1.62it/s]\n",
      "evaluating: 100%|██████████| 4/4 [00:02<00:00,  1.54it/s]\n",
      "evaluating: 100%|██████████| 1/1 [00:00<00:00,  4.68it/s]\n"
     ]
    },
    {
     "name": "stdout",
     "output_type": "stream",
     "text": [
      "Epoch: 29/100\n"
     ]
    },
    {
     "name": "stderr",
     "output_type": "stream",
     "text": [
      "training: 100%|██████████| 4/4 [00:02<00:00,  1.62it/s]\n",
      "evaluating: 100%|██████████| 4/4 [00:02<00:00,  1.54it/s]\n",
      "evaluating: 100%|██████████| 1/1 [00:00<00:00,  4.68it/s]\n"
     ]
    },
    {
     "name": "stdout",
     "output_type": "stream",
     "text": [
      "Epoch: 30/100\n"
     ]
    },
    {
     "name": "stderr",
     "output_type": "stream",
     "text": [
      "training: 100%|██████████| 4/4 [00:02<00:00,  1.60it/s]\n",
      "evaluating: 100%|██████████| 4/4 [00:02<00:00,  1.52it/s]\n",
      "evaluating: 100%|██████████| 1/1 [00:00<00:00,  4.68it/s]\n"
     ]
    },
    {
     "name": "stdout",
     "output_type": "stream",
     "text": [
      "Epoch: 31/100\n"
     ]
    },
    {
     "name": "stderr",
     "output_type": "stream",
     "text": [
      "training: 100%|██████████| 4/4 [00:03<00:00,  1.33it/s]\n",
      "evaluating: 100%|██████████| 4/4 [00:03<00:00,  1.22it/s]\n",
      "evaluating: 100%|██████████| 1/1 [00:00<00:00,  4.68it/s]\n"
     ]
    },
    {
     "name": "stdout",
     "output_type": "stream",
     "text": [
      "Epoch: 32/100\n"
     ]
    },
    {
     "name": "stderr",
     "output_type": "stream",
     "text": [
      "training: 100%|██████████| 4/4 [00:02<00:00,  1.54it/s]\n",
      "evaluating: 100%|██████████| 4/4 [00:02<00:00,  1.45it/s]\n",
      "evaluating: 100%|██████████| 1/1 [00:00<00:00,  4.70it/s]\n"
     ]
    },
    {
     "name": "stdout",
     "output_type": "stream",
     "text": [
      "Epoch: 33/100\n"
     ]
    },
    {
     "name": "stderr",
     "output_type": "stream",
     "text": [
      "training: 100%|██████████| 4/4 [00:02<00:00,  1.66it/s]\n",
      "evaluating: 100%|██████████| 4/4 [00:02<00:00,  1.53it/s]\n",
      "evaluating: 100%|██████████| 1/1 [00:00<00:00,  4.65it/s]\n"
     ]
    },
    {
     "name": "stdout",
     "output_type": "stream",
     "text": [
      "Epoch: 34/100\n"
     ]
    },
    {
     "name": "stderr",
     "output_type": "stream",
     "text": [
      "training: 100%|██████████| 4/4 [00:02<00:00,  1.60it/s]\n",
      "evaluating: 100%|██████████| 4/4 [00:02<00:00,  1.53it/s]\n",
      "evaluating: 100%|██████████| 1/1 [00:00<00:00,  4.67it/s]\n"
     ]
    },
    {
     "name": "stdout",
     "output_type": "stream",
     "text": [
      "Epoch: 35/100\n"
     ]
    },
    {
     "name": "stderr",
     "output_type": "stream",
     "text": [
      "training: 100%|██████████| 4/4 [00:02<00:00,  1.54it/s]\n",
      "evaluating: 100%|██████████| 4/4 [00:02<00:00,  1.52it/s]\n",
      "evaluating: 100%|██████████| 1/1 [00:00<00:00,  4.71it/s]\n"
     ]
    },
    {
     "name": "stdout",
     "output_type": "stream",
     "text": [
      "Epoch: 36/100\n"
     ]
    },
    {
     "name": "stderr",
     "output_type": "stream",
     "text": [
      "training: 100%|██████████| 4/4 [00:02<00:00,  1.64it/s]\n",
      "evaluating: 100%|██████████| 4/4 [00:02<00:00,  1.49it/s]\n",
      "evaluating: 100%|██████████| 1/1 [00:00<00:00,  4.66it/s]\n"
     ]
    },
    {
     "name": "stdout",
     "output_type": "stream",
     "text": [
      "Epoch: 37/100\n"
     ]
    },
    {
     "name": "stderr",
     "output_type": "stream",
     "text": [
      "training: 100%|██████████| 4/4 [00:02<00:00,  1.59it/s]\n",
      "evaluating: 100%|██████████| 4/4 [00:02<00:00,  1.49it/s]\n",
      "evaluating: 100%|██████████| 1/1 [00:00<00:00,  4.69it/s]\n"
     ]
    },
    {
     "name": "stdout",
     "output_type": "stream",
     "text": [
      "Epoch: 38/100\n"
     ]
    },
    {
     "name": "stderr",
     "output_type": "stream",
     "text": [
      "training: 100%|██████████| 4/4 [00:02<00:00,  1.64it/s]\n",
      "evaluating: 100%|██████████| 4/4 [00:02<00:00,  1.54it/s]\n",
      "evaluating: 100%|██████████| 1/1 [00:00<00:00,  4.67it/s]\n"
     ]
    },
    {
     "name": "stdout",
     "output_type": "stream",
     "text": [
      "Epoch: 39/100\n"
     ]
    },
    {
     "name": "stderr",
     "output_type": "stream",
     "text": [
      "training: 100%|██████████| 4/4 [00:02<00:00,  1.64it/s]\n",
      "evaluating: 100%|██████████| 4/4 [00:02<00:00,  1.54it/s]\n",
      "evaluating: 100%|██████████| 1/1 [00:00<00:00,  4.27it/s]\n"
     ]
    },
    {
     "name": "stdout",
     "output_type": "stream",
     "text": [
      "Epoch: 40/100\n"
     ]
    },
    {
     "name": "stderr",
     "output_type": "stream",
     "text": [
      "training: 100%|██████████| 4/4 [00:02<00:00,  1.61it/s]\n",
      "evaluating: 100%|██████████| 4/4 [00:02<00:00,  1.51it/s]\n",
      "evaluating: 100%|██████████| 1/1 [00:00<00:00,  4.69it/s]\n"
     ]
    },
    {
     "name": "stdout",
     "output_type": "stream",
     "text": [
      "Epoch: 41/100\n"
     ]
    },
    {
     "name": "stderr",
     "output_type": "stream",
     "text": [
      "training: 100%|██████████| 4/4 [00:02<00:00,  1.38it/s]\n",
      "evaluating: 100%|██████████| 4/4 [00:02<00:00,  1.51it/s]\n",
      "evaluating: 100%|██████████| 1/1 [00:00<00:00,  4.67it/s]\n"
     ]
    },
    {
     "name": "stdout",
     "output_type": "stream",
     "text": [
      "Epoch: 42/100\n"
     ]
    },
    {
     "name": "stderr",
     "output_type": "stream",
     "text": [
      "training: 100%|██████████| 4/4 [00:02<00:00,  1.63it/s]\n",
      "evaluating: 100%|██████████| 4/4 [00:02<00:00,  1.53it/s]\n",
      "evaluating: 100%|██████████| 1/1 [00:00<00:00,  4.69it/s]\n"
     ]
    },
    {
     "name": "stdout",
     "output_type": "stream",
     "text": [
      "Epoch: 43/100\n"
     ]
    },
    {
     "name": "stderr",
     "output_type": "stream",
     "text": [
      "training: 100%|██████████| 4/4 [00:02<00:00,  1.66it/s]\n",
      "evaluating: 100%|██████████| 4/4 [00:02<00:00,  1.53it/s]\n",
      "evaluating: 100%|██████████| 1/1 [00:00<00:00,  4.61it/s]\n"
     ]
    },
    {
     "name": "stdout",
     "output_type": "stream",
     "text": [
      "Epoch: 44/100\n"
     ]
    },
    {
     "name": "stderr",
     "output_type": "stream",
     "text": [
      "training: 100%|██████████| 4/4 [00:02<00:00,  1.63it/s]\n",
      "evaluating: 100%|██████████| 4/4 [00:02<00:00,  1.54it/s]\n",
      "evaluating: 100%|██████████| 1/1 [00:00<00:00,  4.68it/s]\n"
     ]
    },
    {
     "name": "stdout",
     "output_type": "stream",
     "text": [
      "Epoch: 45/100\n"
     ]
    },
    {
     "name": "stderr",
     "output_type": "stream",
     "text": [
      "training: 100%|██████████| 4/4 [00:02<00:00,  1.64it/s]\n",
      "evaluating: 100%|██████████| 4/4 [00:02<00:00,  1.49it/s]\n",
      "evaluating: 100%|██████████| 1/1 [00:00<00:00,  4.63it/s]\n"
     ]
    },
    {
     "name": "stdout",
     "output_type": "stream",
     "text": [
      "Epoch: 46/100\n"
     ]
    },
    {
     "name": "stderr",
     "output_type": "stream",
     "text": [
      "training: 100%|██████████| 4/4 [00:02<00:00,  1.63it/s]\n",
      "evaluating: 100%|██████████| 4/4 [00:02<00:00,  1.53it/s]\n",
      "evaluating: 100%|██████████| 1/1 [00:00<00:00,  4.69it/s]\n"
     ]
    },
    {
     "name": "stdout",
     "output_type": "stream",
     "text": [
      "Epoch: 47/100\n"
     ]
    },
    {
     "name": "stderr",
     "output_type": "stream",
     "text": [
      "training: 100%|██████████| 4/4 [00:02<00:00,  1.64it/s]\n",
      "evaluating: 100%|██████████| 4/4 [00:02<00:00,  1.50it/s]\n",
      "evaluating: 100%|██████████| 1/1 [00:00<00:00,  4.68it/s]\n"
     ]
    },
    {
     "name": "stdout",
     "output_type": "stream",
     "text": [
      "Epoch: 48/100\n"
     ]
    },
    {
     "name": "stderr",
     "output_type": "stream",
     "text": [
      "training: 100%|██████████| 4/4 [00:02<00:00,  1.60it/s]\n",
      "evaluating: 100%|██████████| 4/4 [00:02<00:00,  1.51it/s]\n",
      "evaluating: 100%|██████████| 1/1 [00:00<00:00,  4.65it/s]\n"
     ]
    },
    {
     "name": "stdout",
     "output_type": "stream",
     "text": [
      "Epoch: 49/100\n"
     ]
    },
    {
     "name": "stderr",
     "output_type": "stream",
     "text": [
      "training: 100%|██████████| 4/4 [00:02<00:00,  1.37it/s]\n",
      "evaluating: 100%|██████████| 4/4 [00:02<00:00,  1.44it/s]\n",
      "evaluating: 100%|██████████| 1/1 [00:00<00:00,  4.68it/s]\n"
     ]
    },
    {
     "name": "stdout",
     "output_type": "stream",
     "text": [
      "Epoch: 50/100\n"
     ]
    },
    {
     "name": "stderr",
     "output_type": "stream",
     "text": [
      "training: 100%|██████████| 4/4 [00:02<00:00,  1.56it/s]\n",
      "evaluating: 100%|██████████| 4/4 [00:02<00:00,  1.44it/s]\n",
      "evaluating: 100%|██████████| 1/1 [00:00<00:00,  4.67it/s]\n"
     ]
    },
    {
     "name": "stdout",
     "output_type": "stream",
     "text": [
      "Epoch: 51/100\n"
     ]
    },
    {
     "name": "stderr",
     "output_type": "stream",
     "text": [
      "training: 100%|██████████| 4/4 [00:02<00:00,  1.58it/s]\n",
      "evaluating: 100%|██████████| 4/4 [00:02<00:00,  1.53it/s]\n",
      "evaluating: 100%|██████████| 1/1 [00:00<00:00,  4.71it/s]\n"
     ]
    },
    {
     "name": "stdout",
     "output_type": "stream",
     "text": [
      "Epoch: 52/100\n"
     ]
    },
    {
     "name": "stderr",
     "output_type": "stream",
     "text": [
      "training: 100%|██████████| 4/4 [00:02<00:00,  1.62it/s]\n",
      "evaluating: 100%|██████████| 4/4 [00:02<00:00,  1.53it/s]\n",
      "evaluating: 100%|██████████| 1/1 [00:00<00:00,  4.70it/s]\n"
     ]
    },
    {
     "name": "stdout",
     "output_type": "stream",
     "text": [
      "Epoch: 53/100\n"
     ]
    },
    {
     "name": "stderr",
     "output_type": "stream",
     "text": [
      "training: 100%|██████████| 4/4 [00:02<00:00,  1.61it/s]\n",
      "evaluating: 100%|██████████| 4/4 [00:02<00:00,  1.43it/s]\n",
      "evaluating: 100%|██████████| 1/1 [00:00<00:00,  4.70it/s]\n"
     ]
    },
    {
     "name": "stdout",
     "output_type": "stream",
     "text": [
      "Epoch: 54/100\n"
     ]
    },
    {
     "name": "stderr",
     "output_type": "stream",
     "text": [
      "training: 100%|██████████| 4/4 [00:02<00:00,  1.61it/s]\n",
      "evaluating: 100%|██████████| 4/4 [00:02<00:00,  1.49it/s]\n",
      "evaluating: 100%|██████████| 1/1 [00:00<00:00,  4.67it/s]\n"
     ]
    },
    {
     "name": "stdout",
     "output_type": "stream",
     "text": [
      "Epoch: 55/100\n"
     ]
    },
    {
     "name": "stderr",
     "output_type": "stream",
     "text": [
      "training: 100%|██████████| 4/4 [00:02<00:00,  1.63it/s]\n",
      "evaluating: 100%|██████████| 4/4 [00:02<00:00,  1.50it/s]\n",
      "evaluating: 100%|██████████| 1/1 [00:00<00:00,  4.68it/s]\n"
     ]
    },
    {
     "name": "stdout",
     "output_type": "stream",
     "text": [
      "Epoch: 56/100\n"
     ]
    },
    {
     "name": "stderr",
     "output_type": "stream",
     "text": [
      "training: 100%|██████████| 4/4 [00:02<00:00,  1.60it/s]\n",
      "evaluating: 100%|██████████| 4/4 [00:02<00:00,  1.54it/s]\n",
      "evaluating: 100%|██████████| 1/1 [00:00<00:00,  4.70it/s]\n"
     ]
    },
    {
     "name": "stdout",
     "output_type": "stream",
     "text": [
      "Epoch: 57/100\n"
     ]
    },
    {
     "name": "stderr",
     "output_type": "stream",
     "text": [
      "training: 100%|██████████| 4/4 [00:02<00:00,  1.61it/s]\n",
      "evaluating: 100%|██████████| 4/4 [00:02<00:00,  1.53it/s]\n",
      "evaluating: 100%|██████████| 1/1 [00:00<00:00,  4.70it/s]\n"
     ]
    },
    {
     "name": "stdout",
     "output_type": "stream",
     "text": [
      "Epoch: 58/100\n"
     ]
    },
    {
     "name": "stderr",
     "output_type": "stream",
     "text": [
      "training: 100%|██████████| 4/4 [00:02<00:00,  1.64it/s]\n",
      "evaluating: 100%|██████████| 4/4 [00:02<00:00,  1.55it/s]\n",
      "evaluating: 100%|██████████| 1/1 [00:00<00:00,  4.71it/s]\n"
     ]
    },
    {
     "name": "stdout",
     "output_type": "stream",
     "text": [
      "Epoch: 59/100\n"
     ]
    },
    {
     "name": "stderr",
     "output_type": "stream",
     "text": [
      "training: 100%|██████████| 4/4 [00:02<00:00,  1.51it/s]\n",
      "evaluating: 100%|██████████| 4/4 [00:02<00:00,  1.54it/s]\n",
      "evaluating: 100%|██████████| 1/1 [00:00<00:00,  4.70it/s]\n"
     ]
    },
    {
     "name": "stdout",
     "output_type": "stream",
     "text": [
      "Epoch: 60/100\n"
     ]
    },
    {
     "name": "stderr",
     "output_type": "stream",
     "text": [
      "training: 100%|██████████| 4/4 [00:02<00:00,  1.59it/s]\n",
      "evaluating: 100%|██████████| 4/4 [00:02<00:00,  1.50it/s]\n",
      "evaluating: 100%|██████████| 1/1 [00:00<00:00,  4.70it/s]\n"
     ]
    },
    {
     "name": "stdout",
     "output_type": "stream",
     "text": [
      "Epoch: 61/100\n"
     ]
    },
    {
     "name": "stderr",
     "output_type": "stream",
     "text": [
      "training: 100%|██████████| 4/4 [00:02<00:00,  1.61it/s]\n",
      "evaluating: 100%|██████████| 4/4 [00:02<00:00,  1.54it/s]\n",
      "evaluating: 100%|██████████| 1/1 [00:00<00:00,  4.61it/s]\n"
     ]
    },
    {
     "name": "stdout",
     "output_type": "stream",
     "text": [
      "Epoch: 62/100\n"
     ]
    },
    {
     "name": "stderr",
     "output_type": "stream",
     "text": [
      "training: 100%|██████████| 4/4 [00:02<00:00,  1.58it/s]\n",
      "evaluating: 100%|██████████| 4/4 [00:02<00:00,  1.53it/s]\n",
      "evaluating: 100%|██████████| 1/1 [00:00<00:00,  4.70it/s]\n"
     ]
    },
    {
     "name": "stdout",
     "output_type": "stream",
     "text": [
      "Epoch: 63/100\n"
     ]
    },
    {
     "name": "stderr",
     "output_type": "stream",
     "text": [
      "training: 100%|██████████| 4/4 [00:02<00:00,  1.63it/s]\n",
      "evaluating: 100%|██████████| 4/4 [00:02<00:00,  1.53it/s]\n",
      "evaluating: 100%|██████████| 1/1 [00:00<00:00,  4.48it/s]\n"
     ]
    },
    {
     "name": "stdout",
     "output_type": "stream",
     "text": [
      "Epoch: 64/100\n"
     ]
    },
    {
     "name": "stderr",
     "output_type": "stream",
     "text": [
      "training: 100%|██████████| 4/4 [00:02<00:00,  1.61it/s]\n",
      "evaluating: 100%|██████████| 4/4 [00:02<00:00,  1.54it/s]\n",
      "evaluating: 100%|██████████| 1/1 [00:00<00:00,  4.69it/s]\n"
     ]
    },
    {
     "name": "stdout",
     "output_type": "stream",
     "text": [
      "Epoch: 65/100\n"
     ]
    },
    {
     "name": "stderr",
     "output_type": "stream",
     "text": [
      "training: 100%|██████████| 4/4 [00:02<00:00,  1.64it/s]\n",
      "evaluating: 100%|██████████| 4/4 [00:02<00:00,  1.50it/s]\n",
      "evaluating: 100%|██████████| 1/1 [00:00<00:00,  4.69it/s]\n"
     ]
    },
    {
     "name": "stdout",
     "output_type": "stream",
     "text": [
      "Epoch: 66/100\n"
     ]
    },
    {
     "name": "stderr",
     "output_type": "stream",
     "text": [
      "training: 100%|██████████| 4/4 [00:02<00:00,  1.63it/s]\n",
      "evaluating: 100%|██████████| 4/4 [00:02<00:00,  1.50it/s]\n",
      "evaluating: 100%|██████████| 1/1 [00:00<00:00,  4.66it/s]\n"
     ]
    },
    {
     "name": "stdout",
     "output_type": "stream",
     "text": [
      "Epoch: 67/100\n"
     ]
    },
    {
     "name": "stderr",
     "output_type": "stream",
     "text": [
      "training: 100%|██████████| 4/4 [00:02<00:00,  1.52it/s]\n",
      "evaluating: 100%|██████████| 4/4 [00:02<00:00,  1.53it/s]\n",
      "evaluating: 100%|██████████| 1/1 [00:00<00:00,  4.67it/s]\n"
     ]
    },
    {
     "name": "stdout",
     "output_type": "stream",
     "text": [
      "Epoch: 68/100\n"
     ]
    },
    {
     "name": "stderr",
     "output_type": "stream",
     "text": [
      "training: 100%|██████████| 4/4 [00:02<00:00,  1.62it/s]\n",
      "evaluating: 100%|██████████| 4/4 [00:02<00:00,  1.52it/s]\n",
      "evaluating: 100%|██████████| 1/1 [00:00<00:00,  4.69it/s]\n"
     ]
    },
    {
     "name": "stdout",
     "output_type": "stream",
     "text": [
      "Epoch: 69/100\n"
     ]
    },
    {
     "name": "stderr",
     "output_type": "stream",
     "text": [
      "training: 100%|██████████| 4/4 [00:02<00:00,  1.64it/s]\n",
      "evaluating: 100%|██████████| 4/4 [00:02<00:00,  1.54it/s]\n",
      "evaluating: 100%|██████████| 1/1 [00:00<00:00,  4.69it/s]\n"
     ]
    },
    {
     "name": "stdout",
     "output_type": "stream",
     "text": [
      "Epoch: 70/100\n"
     ]
    },
    {
     "name": "stderr",
     "output_type": "stream",
     "text": [
      "training: 100%|██████████| 4/4 [00:02<00:00,  1.63it/s]\n",
      "evaluating: 100%|██████████| 4/4 [00:02<00:00,  1.52it/s]\n",
      "evaluating: 100%|██████████| 1/1 [00:00<00:00,  4.69it/s]\n"
     ]
    },
    {
     "name": "stdout",
     "output_type": "stream",
     "text": [
      "Epoch: 71/100\n"
     ]
    },
    {
     "name": "stderr",
     "output_type": "stream",
     "text": [
      "training: 100%|██████████| 4/4 [00:02<00:00,  1.61it/s]\n",
      "evaluating: 100%|██████████| 4/4 [00:02<00:00,  1.52it/s]\n",
      "evaluating: 100%|██████████| 1/1 [00:00<00:00,  4.70it/s]\n"
     ]
    },
    {
     "name": "stdout",
     "output_type": "stream",
     "text": [
      "Epoch: 72/100\n"
     ]
    },
    {
     "name": "stderr",
     "output_type": "stream",
     "text": [
      "training: 100%|██████████| 4/4 [00:02<00:00,  1.65it/s]\n",
      "evaluating: 100%|██████████| 4/4 [00:02<00:00,  1.54it/s]\n",
      "evaluating: 100%|██████████| 1/1 [00:00<00:00,  4.70it/s]\n"
     ]
    },
    {
     "name": "stdout",
     "output_type": "stream",
     "text": [
      "Epoch: 73/100\n"
     ]
    },
    {
     "name": "stderr",
     "output_type": "stream",
     "text": [
      "training: 100%|██████████| 4/4 [00:02<00:00,  1.65it/s]\n",
      "evaluating: 100%|██████████| 4/4 [00:02<00:00,  1.53it/s]\n",
      "evaluating: 100%|██████████| 1/1 [00:00<00:00,  4.69it/s]\n"
     ]
    },
    {
     "name": "stdout",
     "output_type": "stream",
     "text": [
      "Epoch: 74/100\n"
     ]
    },
    {
     "name": "stderr",
     "output_type": "stream",
     "text": [
      "training: 100%|██████████| 4/4 [00:02<00:00,  1.65it/s]\n",
      "evaluating: 100%|██████████| 4/4 [00:02<00:00,  1.52it/s]\n",
      "evaluating: 100%|██████████| 1/1 [00:00<00:00,  4.46it/s]\n"
     ]
    },
    {
     "name": "stdout",
     "output_type": "stream",
     "text": [
      "Epoch: 75/100\n"
     ]
    },
    {
     "name": "stderr",
     "output_type": "stream",
     "text": [
      "training: 100%|██████████| 4/4 [00:02<00:00,  1.61it/s]\n",
      "evaluating: 100%|██████████| 4/4 [00:02<00:00,  1.54it/s]\n",
      "evaluating: 100%|██████████| 1/1 [00:00<00:00,  4.70it/s]\n"
     ]
    },
    {
     "name": "stdout",
     "output_type": "stream",
     "text": [
      "Epoch: 76/100\n"
     ]
    },
    {
     "name": "stderr",
     "output_type": "stream",
     "text": [
      "training: 100%|██████████| 4/4 [00:02<00:00,  1.65it/s]\n",
      "evaluating: 100%|██████████| 4/4 [00:02<00:00,  1.53it/s]\n",
      "evaluating: 100%|██████████| 1/1 [00:00<00:00,  4.68it/s]\n"
     ]
    },
    {
     "name": "stdout",
     "output_type": "stream",
     "text": [
      "Epoch: 77/100\n"
     ]
    },
    {
     "name": "stderr",
     "output_type": "stream",
     "text": [
      "training: 100%|██████████| 4/4 [00:02<00:00,  1.63it/s]\n",
      "evaluating: 100%|██████████| 4/4 [00:02<00:00,  1.53it/s]\n",
      "evaluating: 100%|██████████| 1/1 [00:00<00:00,  4.69it/s]\n"
     ]
    },
    {
     "name": "stdout",
     "output_type": "stream",
     "text": [
      "Epoch: 78/100\n"
     ]
    },
    {
     "name": "stderr",
     "output_type": "stream",
     "text": [
      "training: 100%|██████████| 4/4 [00:02<00:00,  1.62it/s]\n",
      "evaluating: 100%|██████████| 4/4 [00:02<00:00,  1.55it/s]\n",
      "evaluating: 100%|██████████| 1/1 [00:00<00:00,  4.69it/s]\n"
     ]
    },
    {
     "name": "stdout",
     "output_type": "stream",
     "text": [
      "Epoch: 79/100\n"
     ]
    },
    {
     "name": "stderr",
     "output_type": "stream",
     "text": [
      "training: 100%|██████████| 4/4 [00:02<00:00,  1.63it/s]\n",
      "evaluating: 100%|██████████| 4/4 [00:02<00:00,  1.54it/s]\n",
      "evaluating: 100%|██████████| 1/1 [00:00<00:00,  4.67it/s]\n"
     ]
    },
    {
     "name": "stdout",
     "output_type": "stream",
     "text": [
      "Epoch: 80/100\n"
     ]
    },
    {
     "name": "stderr",
     "output_type": "stream",
     "text": [
      "training: 100%|██████████| 4/4 [00:02<00:00,  1.64it/s]\n",
      "evaluating: 100%|██████████| 4/4 [00:02<00:00,  1.54it/s]\n",
      "evaluating: 100%|██████████| 1/1 [00:00<00:00,  4.69it/s]\n"
     ]
    },
    {
     "name": "stdout",
     "output_type": "stream",
     "text": [
      "Epoch: 81/100\n"
     ]
    },
    {
     "name": "stderr",
     "output_type": "stream",
     "text": [
      "training: 100%|██████████| 4/4 [00:02<00:00,  1.63it/s]\n",
      "evaluating: 100%|██████████| 4/4 [00:02<00:00,  1.55it/s]\n",
      "evaluating: 100%|██████████| 1/1 [00:00<00:00,  4.69it/s]\n"
     ]
    },
    {
     "name": "stdout",
     "output_type": "stream",
     "text": [
      "Epoch: 82/100\n"
     ]
    },
    {
     "name": "stderr",
     "output_type": "stream",
     "text": [
      "training: 100%|██████████| 4/4 [00:02<00:00,  1.62it/s]\n",
      "evaluating: 100%|██████████| 4/4 [00:02<00:00,  1.48it/s]\n",
      "evaluating: 100%|██████████| 1/1 [00:00<00:00,  4.68it/s]\n"
     ]
    },
    {
     "name": "stdout",
     "output_type": "stream",
     "text": [
      "Epoch: 83/100\n"
     ]
    },
    {
     "name": "stderr",
     "output_type": "stream",
     "text": [
      "training: 100%|██████████| 4/4 [00:02<00:00,  1.62it/s]\n",
      "evaluating: 100%|██████████| 4/4 [00:02<00:00,  1.51it/s]\n",
      "evaluating: 100%|██████████| 1/1 [00:00<00:00,  4.21it/s]\n"
     ]
    },
    {
     "name": "stdout",
     "output_type": "stream",
     "text": [
      "Epoch: 84/100\n"
     ]
    },
    {
     "name": "stderr",
     "output_type": "stream",
     "text": [
      "training: 100%|██████████| 4/4 [00:02<00:00,  1.61it/s]\n",
      "evaluating: 100%|██████████| 4/4 [00:02<00:00,  1.51it/s]\n",
      "evaluating: 100%|██████████| 1/1 [00:00<00:00,  4.70it/s]\n"
     ]
    },
    {
     "name": "stdout",
     "output_type": "stream",
     "text": [
      "Epoch: 85/100\n"
     ]
    },
    {
     "name": "stderr",
     "output_type": "stream",
     "text": [
      "training: 100%|██████████| 4/4 [00:02<00:00,  1.66it/s]\n",
      "evaluating: 100%|██████████| 4/4 [00:02<00:00,  1.53it/s]\n",
      "evaluating: 100%|██████████| 1/1 [00:00<00:00,  4.69it/s]\n"
     ]
    },
    {
     "name": "stdout",
     "output_type": "stream",
     "text": [
      "Epoch: 86/100\n"
     ]
    },
    {
     "name": "stderr",
     "output_type": "stream",
     "text": [
      "training: 100%|██████████| 4/4 [00:02<00:00,  1.64it/s]\n",
      "evaluating: 100%|██████████| 4/4 [00:02<00:00,  1.53it/s]\n",
      "evaluating: 100%|██████████| 1/1 [00:00<00:00,  4.70it/s]\n"
     ]
    },
    {
     "name": "stdout",
     "output_type": "stream",
     "text": [
      "Epoch: 87/100\n"
     ]
    },
    {
     "name": "stderr",
     "output_type": "stream",
     "text": [
      "training: 100%|██████████| 4/4 [00:02<00:00,  1.65it/s]\n",
      "evaluating: 100%|██████████| 4/4 [00:02<00:00,  1.50it/s]\n",
      "evaluating: 100%|██████████| 1/1 [00:00<00:00,  4.68it/s]\n"
     ]
    },
    {
     "name": "stdout",
     "output_type": "stream",
     "text": [
      "Epoch: 88/100\n"
     ]
    },
    {
     "name": "stderr",
     "output_type": "stream",
     "text": [
      "training: 100%|██████████| 4/4 [00:02<00:00,  1.64it/s]\n",
      "evaluating: 100%|██████████| 4/4 [00:02<00:00,  1.54it/s]\n",
      "evaluating: 100%|██████████| 1/1 [00:00<00:00,  4.68it/s]\n"
     ]
    },
    {
     "name": "stdout",
     "output_type": "stream",
     "text": [
      "Epoch: 89/100\n"
     ]
    },
    {
     "name": "stderr",
     "output_type": "stream",
     "text": [
      "training: 100%|██████████| 4/4 [00:02<00:00,  1.54it/s]\n",
      "evaluating: 100%|██████████| 4/4 [00:02<00:00,  1.54it/s]\n",
      "evaluating: 100%|██████████| 1/1 [00:00<00:00,  4.68it/s]\n"
     ]
    },
    {
     "name": "stdout",
     "output_type": "stream",
     "text": [
      "Epoch: 90/100\n"
     ]
    },
    {
     "name": "stderr",
     "output_type": "stream",
     "text": [
      "training: 100%|██████████| 4/4 [00:02<00:00,  1.62it/s]\n",
      "evaluating: 100%|██████████| 4/4 [00:02<00:00,  1.55it/s]\n",
      "evaluating: 100%|██████████| 1/1 [00:00<00:00,  4.71it/s]\n"
     ]
    },
    {
     "name": "stdout",
     "output_type": "stream",
     "text": [
      "Epoch: 91/100\n"
     ]
    },
    {
     "name": "stderr",
     "output_type": "stream",
     "text": [
      "training: 100%|██████████| 4/4 [00:02<00:00,  1.64it/s]\n",
      "evaluating: 100%|██████████| 4/4 [00:02<00:00,  1.54it/s]\n",
      "evaluating: 100%|██████████| 1/1 [00:00<00:00,  4.68it/s]\n"
     ]
    },
    {
     "name": "stdout",
     "output_type": "stream",
     "text": [
      "Epoch: 92/100\n"
     ]
    },
    {
     "name": "stderr",
     "output_type": "stream",
     "text": [
      "training: 100%|██████████| 4/4 [00:02<00:00,  1.63it/s]\n",
      "evaluating: 100%|██████████| 4/4 [00:02<00:00,  1.54it/s]\n",
      "evaluating: 100%|██████████| 1/1 [00:00<00:00,  4.70it/s]\n"
     ]
    },
    {
     "name": "stdout",
     "output_type": "stream",
     "text": [
      "Epoch: 93/100\n"
     ]
    },
    {
     "name": "stderr",
     "output_type": "stream",
     "text": [
      "training: 100%|██████████| 4/4 [00:02<00:00,  1.64it/s]\n",
      "evaluating: 100%|██████████| 4/4 [00:02<00:00,  1.53it/s]\n",
      "evaluating: 100%|██████████| 1/1 [00:00<00:00,  4.70it/s]\n"
     ]
    },
    {
     "name": "stdout",
     "output_type": "stream",
     "text": [
      "Epoch: 94/100\n"
     ]
    },
    {
     "name": "stderr",
     "output_type": "stream",
     "text": [
      "training: 100%|██████████| 4/4 [00:02<00:00,  1.62it/s]\n",
      "evaluating: 100%|██████████| 4/4 [00:02<00:00,  1.52it/s]\n",
      "evaluating: 100%|██████████| 1/1 [00:00<00:00,  4.67it/s]\n"
     ]
    },
    {
     "name": "stdout",
     "output_type": "stream",
     "text": [
      "Epoch: 95/100\n"
     ]
    },
    {
     "name": "stderr",
     "output_type": "stream",
     "text": [
      "training: 100%|██████████| 4/4 [00:02<00:00,  1.61it/s]\n",
      "evaluating: 100%|██████████| 4/4 [00:02<00:00,  1.54it/s]\n",
      "evaluating: 100%|██████████| 1/1 [00:00<00:00,  4.70it/s]\n"
     ]
    },
    {
     "name": "stdout",
     "output_type": "stream",
     "text": [
      "Epoch: 96/100\n"
     ]
    },
    {
     "name": "stderr",
     "output_type": "stream",
     "text": [
      "training: 100%|██████████| 4/4 [00:02<00:00,  1.64it/s]\n",
      "evaluating: 100%|██████████| 4/4 [00:02<00:00,  1.53it/s]\n",
      "evaluating: 100%|██████████| 1/1 [00:00<00:00,  4.66it/s]\n"
     ]
    },
    {
     "name": "stdout",
     "output_type": "stream",
     "text": [
      "Epoch: 97/100\n"
     ]
    },
    {
     "name": "stderr",
     "output_type": "stream",
     "text": [
      "training: 100%|██████████| 4/4 [00:03<00:00,  1.05it/s]\n",
      "evaluating: 100%|██████████| 4/4 [00:02<00:00,  1.53it/s]\n",
      "evaluating: 100%|██████████| 1/1 [00:00<00:00,  4.67it/s]\n"
     ]
    },
    {
     "name": "stdout",
     "output_type": "stream",
     "text": [
      "Epoch: 98/100\n"
     ]
    },
    {
     "name": "stderr",
     "output_type": "stream",
     "text": [
      "training: 100%|██████████| 4/4 [00:02<00:00,  1.59it/s]\n",
      "evaluating: 100%|██████████| 4/4 [00:02<00:00,  1.54it/s]\n",
      "evaluating: 100%|██████████| 1/1 [00:00<00:00,  4.69it/s]\n"
     ]
    },
    {
     "name": "stdout",
     "output_type": "stream",
     "text": [
      "Epoch: 99/100\n"
     ]
    },
    {
     "name": "stderr",
     "output_type": "stream",
     "text": [
      "training: 100%|██████████| 4/4 [00:02<00:00,  1.59it/s]\n",
      "evaluating: 100%|██████████| 4/4 [00:02<00:00,  1.53it/s]\n",
      "evaluating: 100%|██████████| 1/1 [00:00<00:00,  4.70it/s]"
     ]
    },
    {
     "name": "stdout",
     "output_type": "stream",
     "text": [
      "Run time: 744 seconds, 12 minutes\n"
     ]
    },
    {
     "name": "stderr",
     "output_type": "stream",
     "text": [
      "\n"
     ]
    }
   ],
   "source": [
    "st = time.time()\n",
    "model = GNN(num_nodes=num_nodes, num_relations=num_relations, num_layers=5, hidden_channels=400, learning_rate=1e-2, dropout_prob=0.2, regularization_val=1e-2, same_as_index=same_as_index, relation_ratio=relation_ratio)\n",
    "epochs = 100\n",
    "\n",
    "for relation in to_evaluate:\n",
    "    filename_train = f'../results/{filename}_train_v2.csv'\n",
    "    filename_test = f'../results/{filename}_test_v2.csv'\n",
    "\n",
    "with open(filename_train, 'w') as csvfile:\n",
    "    csvwriter = csv.writer(csvfile)\n",
    "    headerList = ['epoch', 'loss']\n",
    "    for relation in to_evaluate:\n",
    "        headerList.extend([f'{relation.rsplit(\"#\", 1)[1]}_train_hits@1',f'{relation.rsplit(\"#\", 1)[1]}_train_hits@10',f'{relation.rsplit(\"#\", 1)[1]}_train_MR',f'{relation.rsplit(\"#\", 1)[1]}_train_MRR', f'{relation.rsplit(\"#\", 1)[1]}_train_precision',f'{relation.rsplit(\"#\", 1)[1]}_train_recall',f'{relation.rsplit(\"#\", 1)[1]}_train_f1'])\n",
    "    csvwriter.writerow(headerList)\n",
    "    \n",
    "with open(filename_test, 'w') as csvfile:\n",
    "    csvwriter = csv.writer(csvfile)\n",
    "    headerList = ['epoch']\n",
    "    for relation in to_evaluate:\n",
    "        headerList.extend([f'{relation.rsplit(\"#\", 1)[1]}_test_hits@1',f'{relation.rsplit(\"#\", 1)[1]}_test_hits@10',f'{relation.rsplit(\"#\", 1)[1]}_test_MR',f'{relation.rsplit(\"#\", 1)[1]}_test_MRR', f'{relation.rsplit(\"#\", 1)[1]}_test_precision',f'{relation.rsplit(\"#\", 1)[1]}_test_recall',f'{relation.rsplit(\"#\", 1)[1]}_test_f1'])\n",
    "    csvwriter.writerow(headerList)\n",
    "\n",
    "for epoch in range(epochs):\n",
    "    print(f'Epoch: {epoch}/{epochs}')\n",
    "    loss = model.train(train_loader, data['train_pos_edge_index'])\n",
    "    \n",
    "    hits1_train, hits10_train, mr_train, mrr_train = model.eval(train_loader, train_pos_edge_adj, to_evaluate)\n",
    "    row = [epoch, loss]\n",
    "    for i, relation in enumerate(to_evaluate):\n",
    "        _, _, _, _, _, _, precision_train, recall_train, f1_train = model.eval_PRF(train_loader, i)\n",
    "        row.extend([hits1_train[i].item(), hits10_train[i].item(), mr_train[i].item(), mrr_train[i].item(), precision_train, recall_train, f1_train])\n",
    "        \n",
    "    \n",
    "    with open(filename_train, 'a') as csvfile:     \n",
    "        csvwriter = csv.writer(csvfile)\n",
    "        csvwriter.writerow(row)\n",
    "\n",
    "    hits1_test, hits10_test, mr_test, mrr_test = model.eval(test_loader, test_pos_edge_adj, to_evaluate)\n",
    "    row = [epoch]\n",
    "    for i, relation in enumerate(to_evaluate):\n",
    "        _, _, _, _, _, _, precision_test, recall_test, f1_test = model.eval_PRF(test_loader, i)\n",
    "        row.extend([hits1_test[i].item(), hits10_test[i].item(), mr_test[i].item(), mrr_test[i].item(), precision_test, recall_test, f1_test])\n",
    "    \n",
    "    with open(filename_test, 'a') as csvfile:     \n",
    "        csvwriter = csv.writer(csvfile)\n",
    "        csvwriter.writerow(row)\n",
    "\n",
    "et = time.time()\n",
    "elapsed_time = et - st\n",
    "print(f'Run time: {elapsed_time:.0f} seconds, {elapsed_time/60:.0f} minutes')"
   ]
  },
  {
   "cell_type": "code",
   "execution_count": 7,
   "id": "16a5bb0467418f86",
   "metadata": {
    "collapsed": false
   },
   "outputs": [
    {
     "name": "stdout",
     "output_type": "stream",
     "text": [
      "Epoch: 0/100\n"
     ]
    },
    {
     "name": "stderr",
     "output_type": "stream",
     "text": [
      "training: 100%|██████████| 5/5 [00:02<00:00,  1.97it/s]\n",
      "evaluating: 100%|██████████| 5/5 [00:16<00:00,  3.24s/it]\n",
      "/usr/local/lib/python3.10/dist-packages/sklearn/metrics/_classification.py:1531: UndefinedMetricWarning: Precision is ill-defined and being set to 0.0 due to no predicted samples. Use `zero_division` parameter to control this behavior.\n",
      "  _warn_prf(average, modifier, f\"{metric.capitalize()} is\", len(result))\n",
      "evaluating: 100%|██████████| 1/1 [00:03<00:00,  3.72s/it]\n",
      "/usr/local/lib/python3.10/dist-packages/sklearn/metrics/_classification.py:1531: UndefinedMetricWarning: Precision is ill-defined and being set to 0.0 due to no predicted samples. Use `zero_division` parameter to control this behavior.\n",
      "  _warn_prf(average, modifier, f\"{metric.capitalize()} is\", len(result))\n"
     ]
    },
    {
     "name": "stdout",
     "output_type": "stream",
     "text": [
      "Epoch: 1/100\n"
     ]
    },
    {
     "name": "stderr",
     "output_type": "stream",
     "text": [
      "training: 100%|██████████| 5/5 [00:02<00:00,  2.22it/s]\n",
      "evaluating: 100%|██████████| 5/5 [00:16<00:00,  3.23s/it]\n",
      "evaluating: 100%|██████████| 1/1 [00:03<00:00,  3.76s/it]\n"
     ]
    },
    {
     "name": "stdout",
     "output_type": "stream",
     "text": [
      "Epoch: 2/100\n"
     ]
    },
    {
     "name": "stderr",
     "output_type": "stream",
     "text": [
      "training: 100%|██████████| 5/5 [00:02<00:00,  2.33it/s]\n",
      "evaluating: 100%|██████████| 5/5 [00:16<00:00,  3.21s/it]\n",
      "evaluating: 100%|██████████| 1/1 [00:03<00:00,  3.76s/it]\n"
     ]
    },
    {
     "name": "stdout",
     "output_type": "stream",
     "text": [
      "Epoch: 3/100\n"
     ]
    },
    {
     "name": "stderr",
     "output_type": "stream",
     "text": [
      "training: 100%|██████████| 5/5 [00:02<00:00,  2.28it/s]\n",
      "evaluating: 100%|██████████| 5/5 [00:15<00:00,  3.07s/it]\n",
      "evaluating: 100%|██████████| 1/1 [00:03<00:00,  3.72s/it]\n"
     ]
    },
    {
     "name": "stdout",
     "output_type": "stream",
     "text": [
      "Epoch: 4/100\n"
     ]
    },
    {
     "name": "stderr",
     "output_type": "stream",
     "text": [
      "training: 100%|██████████| 5/5 [00:02<00:00,  2.33it/s]\n",
      "evaluating: 100%|██████████| 5/5 [00:16<00:00,  3.22s/it]\n",
      "evaluating: 100%|██████████| 1/1 [00:03<00:00,  3.72s/it]\n"
     ]
    },
    {
     "name": "stdout",
     "output_type": "stream",
     "text": [
      "Epoch: 5/100\n"
     ]
    },
    {
     "name": "stderr",
     "output_type": "stream",
     "text": [
      "training: 100%|██████████| 5/5 [00:02<00:00,  2.45it/s]\n",
      "evaluating: 100%|██████████| 5/5 [00:15<00:00,  3.18s/it]\n",
      "evaluating: 100%|██████████| 1/1 [00:03<00:00,  3.39s/it]\n"
     ]
    },
    {
     "name": "stdout",
     "output_type": "stream",
     "text": [
      "Epoch: 6/100\n"
     ]
    },
    {
     "name": "stderr",
     "output_type": "stream",
     "text": [
      "training: 100%|██████████| 5/5 [00:02<00:00,  2.48it/s]\n",
      "evaluating: 100%|██████████| 5/5 [00:16<00:00,  3.21s/it]\n",
      "evaluating: 100%|██████████| 1/1 [00:03<00:00,  3.76s/it]\n"
     ]
    },
    {
     "name": "stdout",
     "output_type": "stream",
     "text": [
      "Epoch: 7/100\n"
     ]
    },
    {
     "name": "stderr",
     "output_type": "stream",
     "text": [
      "training: 100%|██████████| 5/5 [00:02<00:00,  2.45it/s]\n",
      "evaluating: 100%|██████████| 5/5 [00:16<00:00,  3.23s/it]\n",
      "evaluating: 100%|██████████| 1/1 [00:03<00:00,  3.75s/it]\n"
     ]
    },
    {
     "name": "stdout",
     "output_type": "stream",
     "text": [
      "Epoch: 8/100\n"
     ]
    },
    {
     "name": "stderr",
     "output_type": "stream",
     "text": [
      "training: 100%|██████████| 5/5 [00:02<00:00,  2.29it/s]\n",
      "evaluating: 100%|██████████| 5/5 [00:15<00:00,  3.16s/it]\n",
      "evaluating: 100%|██████████| 1/1 [00:03<00:00,  3.40s/it]\n"
     ]
    },
    {
     "name": "stdout",
     "output_type": "stream",
     "text": [
      "Epoch: 9/100\n"
     ]
    },
    {
     "name": "stderr",
     "output_type": "stream",
     "text": [
      "training: 100%|██████████| 5/5 [00:02<00:00,  2.35it/s]\n",
      "evaluating: 100%|██████████| 5/5 [00:15<00:00,  3.11s/it]\n",
      "evaluating: 100%|██████████| 1/1 [00:03<00:00,  3.73s/it]\n"
     ]
    },
    {
     "name": "stdout",
     "output_type": "stream",
     "text": [
      "Epoch: 10/100\n"
     ]
    },
    {
     "name": "stderr",
     "output_type": "stream",
     "text": [
      "training: 100%|██████████| 5/5 [00:02<00:00,  2.29it/s]\n",
      "evaluating: 100%|██████████| 5/5 [00:16<00:00,  3.23s/it]\n",
      "evaluating: 100%|██████████| 1/1 [00:03<00:00,  3.76s/it]\n"
     ]
    },
    {
     "name": "stdout",
     "output_type": "stream",
     "text": [
      "Epoch: 11/100\n"
     ]
    },
    {
     "name": "stderr",
     "output_type": "stream",
     "text": [
      "training: 100%|██████████| 5/5 [00:02<00:00,  2.41it/s]\n",
      "evaluating: 100%|██████████| 5/5 [00:15<00:00,  3.18s/it]\n",
      "evaluating: 100%|██████████| 1/1 [00:03<00:00,  3.77s/it]\n"
     ]
    },
    {
     "name": "stdout",
     "output_type": "stream",
     "text": [
      "Epoch: 12/100\n"
     ]
    },
    {
     "name": "stderr",
     "output_type": "stream",
     "text": [
      "training: 100%|██████████| 5/5 [00:02<00:00,  2.35it/s]\n",
      "evaluating: 100%|██████████| 5/5 [00:15<00:00,  3.16s/it]\n",
      "evaluating: 100%|██████████| 1/1 [00:03<00:00,  3.74s/it]\n"
     ]
    },
    {
     "name": "stdout",
     "output_type": "stream",
     "text": [
      "Epoch: 13/100\n"
     ]
    },
    {
     "name": "stderr",
     "output_type": "stream",
     "text": [
      "training: 100%|██████████| 5/5 [00:01<00:00,  2.52it/s]\n",
      "evaluating: 100%|██████████| 5/5 [00:15<00:00,  3.16s/it]\n",
      "evaluating: 100%|██████████| 1/1 [00:03<00:00,  3.76s/it]\n"
     ]
    },
    {
     "name": "stdout",
     "output_type": "stream",
     "text": [
      "Epoch: 14/100\n"
     ]
    },
    {
     "name": "stderr",
     "output_type": "stream",
     "text": [
      "training: 100%|██████████| 5/5 [00:02<00:00,  2.47it/s]\n",
      "evaluating: 100%|██████████| 5/5 [00:16<00:00,  3.20s/it]\n",
      "evaluating: 100%|██████████| 1/1 [00:03<00:00,  3.72s/it]\n"
     ]
    },
    {
     "name": "stdout",
     "output_type": "stream",
     "text": [
      "Epoch: 15/100\n"
     ]
    },
    {
     "name": "stderr",
     "output_type": "stream",
     "text": [
      "training: 100%|██████████| 5/5 [00:01<00:00,  2.51it/s]\n",
      "evaluating: 100%|██████████| 5/5 [00:16<00:00,  3.25s/it]\n",
      "evaluating: 100%|██████████| 1/1 [00:03<00:00,  3.78s/it]\n"
     ]
    },
    {
     "name": "stdout",
     "output_type": "stream",
     "text": [
      "Epoch: 16/100\n"
     ]
    },
    {
     "name": "stderr",
     "output_type": "stream",
     "text": [
      "training: 100%|██████████| 5/5 [00:01<00:00,  2.53it/s]\n",
      "evaluating: 100%|██████████| 5/5 [00:16<00:00,  3.24s/it]\n",
      "evaluating: 100%|██████████| 1/1 [00:03<00:00,  3.64s/it]\n"
     ]
    },
    {
     "name": "stdout",
     "output_type": "stream",
     "text": [
      "Epoch: 17/100\n"
     ]
    },
    {
     "name": "stderr",
     "output_type": "stream",
     "text": [
      "training: 100%|██████████| 5/5 [00:02<00:00,  2.44it/s]\n",
      "evaluating: 100%|██████████| 5/5 [00:15<00:00,  3.09s/it]\n",
      "evaluating: 100%|██████████| 1/1 [00:03<00:00,  3.76s/it]\n"
     ]
    },
    {
     "name": "stdout",
     "output_type": "stream",
     "text": [
      "Epoch: 18/100\n"
     ]
    },
    {
     "name": "stderr",
     "output_type": "stream",
     "text": [
      "training: 100%|██████████| 5/5 [00:02<00:00,  2.39it/s]\n",
      "evaluating: 100%|██████████| 5/5 [00:15<00:00,  3.11s/it]\n",
      "evaluating: 100%|██████████| 1/1 [00:03<00:00,  3.76s/it]\n"
     ]
    },
    {
     "name": "stdout",
     "output_type": "stream",
     "text": [
      "Epoch: 19/100\n"
     ]
    },
    {
     "name": "stderr",
     "output_type": "stream",
     "text": [
      "training: 100%|██████████| 5/5 [00:02<00:00,  2.23it/s]\n",
      "evaluating: 100%|██████████| 5/5 [00:15<00:00,  3.13s/it]\n",
      "evaluating: 100%|██████████| 1/1 [00:03<00:00,  3.83s/it]\n"
     ]
    },
    {
     "name": "stdout",
     "output_type": "stream",
     "text": [
      "Epoch: 20/100\n"
     ]
    },
    {
     "name": "stderr",
     "output_type": "stream",
     "text": [
      "training: 100%|██████████| 5/5 [00:02<00:00,  2.24it/s]\n",
      "evaluating: 100%|██████████| 5/5 [00:16<00:00,  3.21s/it]\n",
      "evaluating: 100%|██████████| 1/1 [00:03<00:00,  3.40s/it]\n"
     ]
    },
    {
     "name": "stdout",
     "output_type": "stream",
     "text": [
      "Epoch: 21/100\n"
     ]
    },
    {
     "name": "stderr",
     "output_type": "stream",
     "text": [
      "training: 100%|██████████| 5/5 [00:02<00:00,  2.33it/s]\n",
      "evaluating: 100%|██████████| 5/5 [00:15<00:00,  3.12s/it]\n",
      "evaluating: 100%|██████████| 1/1 [00:03<00:00,  3.39s/it]\n"
     ]
    },
    {
     "name": "stdout",
     "output_type": "stream",
     "text": [
      "Epoch: 22/100\n"
     ]
    },
    {
     "name": "stderr",
     "output_type": "stream",
     "text": [
      "training: 100%|██████████| 5/5 [00:02<00:00,  2.12it/s]\n",
      "evaluating: 100%|██████████| 5/5 [00:15<00:00,  3.09s/it]\n",
      "evaluating: 100%|██████████| 1/1 [00:03<00:00,  3.78s/it]\n"
     ]
    },
    {
     "name": "stdout",
     "output_type": "stream",
     "text": [
      "Epoch: 23/100\n"
     ]
    },
    {
     "name": "stderr",
     "output_type": "stream",
     "text": [
      "training: 100%|██████████| 5/5 [00:02<00:00,  2.30it/s]\n",
      "evaluating: 100%|██████████| 5/5 [00:15<00:00,  3.02s/it]\n",
      "evaluating: 100%|██████████| 1/1 [00:03<00:00,  3.75s/it]\n"
     ]
    },
    {
     "name": "stdout",
     "output_type": "stream",
     "text": [
      "Epoch: 24/100\n"
     ]
    },
    {
     "name": "stderr",
     "output_type": "stream",
     "text": [
      "training: 100%|██████████| 5/5 [00:02<00:00,  2.46it/s]\n",
      "evaluating: 100%|██████████| 5/5 [00:16<00:00,  3.23s/it]\n",
      "evaluating: 100%|██████████| 1/1 [00:03<00:00,  3.35s/it]\n"
     ]
    },
    {
     "name": "stdout",
     "output_type": "stream",
     "text": [
      "Epoch: 25/100\n"
     ]
    },
    {
     "name": "stderr",
     "output_type": "stream",
     "text": [
      "training: 100%|██████████| 5/5 [00:02<00:00,  2.48it/s]\n",
      "evaluating: 100%|██████████| 5/5 [00:14<00:00,  2.92s/it]\n",
      "evaluating: 100%|██████████| 1/1 [00:03<00:00,  3.80s/it]\n"
     ]
    },
    {
     "name": "stdout",
     "output_type": "stream",
     "text": [
      "Epoch: 26/100\n"
     ]
    },
    {
     "name": "stderr",
     "output_type": "stream",
     "text": [
      "training: 100%|██████████| 5/5 [00:02<00:00,  2.31it/s]\n",
      "evaluating: 100%|██████████| 5/5 [00:15<00:00,  3.19s/it]\n",
      "evaluating: 100%|██████████| 1/1 [00:03<00:00,  3.74s/it]\n"
     ]
    },
    {
     "name": "stdout",
     "output_type": "stream",
     "text": [
      "Epoch: 27/100\n"
     ]
    },
    {
     "name": "stderr",
     "output_type": "stream",
     "text": [
      "training: 100%|██████████| 5/5 [00:02<00:00,  2.35it/s]\n",
      "evaluating: 100%|██████████| 5/5 [00:14<00:00,  2.94s/it]\n",
      "evaluating: 100%|██████████| 1/1 [00:03<00:00,  3.68s/it]\n"
     ]
    },
    {
     "name": "stdout",
     "output_type": "stream",
     "text": [
      "Epoch: 28/100\n"
     ]
    },
    {
     "name": "stderr",
     "output_type": "stream",
     "text": [
      "training: 100%|██████████| 5/5 [00:02<00:00,  2.25it/s]\n",
      "evaluating: 100%|██████████| 5/5 [00:15<00:00,  3.01s/it]\n",
      "evaluating: 100%|██████████| 1/1 [00:03<00:00,  3.76s/it]\n"
     ]
    },
    {
     "name": "stdout",
     "output_type": "stream",
     "text": [
      "Epoch: 29/100\n"
     ]
    },
    {
     "name": "stderr",
     "output_type": "stream",
     "text": [
      "training: 100%|██████████| 5/5 [00:02<00:00,  2.27it/s]\n",
      "evaluating: 100%|██████████| 5/5 [00:16<00:00,  3.22s/it]\n",
      "evaluating: 100%|██████████| 1/1 [00:03<00:00,  3.37s/it]\n"
     ]
    },
    {
     "name": "stdout",
     "output_type": "stream",
     "text": [
      "Epoch: 30/100\n"
     ]
    },
    {
     "name": "stderr",
     "output_type": "stream",
     "text": [
      "training: 100%|██████████| 5/5 [00:02<00:00,  2.25it/s]\n",
      "evaluating: 100%|██████████| 5/5 [00:15<00:00,  3.16s/it]\n",
      "evaluating: 100%|██████████| 1/1 [00:03<00:00,  3.70s/it]\n"
     ]
    },
    {
     "name": "stdout",
     "output_type": "stream",
     "text": [
      "Epoch: 31/100\n"
     ]
    },
    {
     "name": "stderr",
     "output_type": "stream",
     "text": [
      "training: 100%|██████████| 5/5 [00:02<00:00,  2.48it/s]\n",
      "evaluating: 100%|██████████| 5/5 [00:15<00:00,  3.13s/it]\n",
      "evaluating: 100%|██████████| 1/1 [00:03<00:00,  3.20s/it]\n"
     ]
    },
    {
     "name": "stdout",
     "output_type": "stream",
     "text": [
      "Epoch: 32/100\n"
     ]
    },
    {
     "name": "stderr",
     "output_type": "stream",
     "text": [
      "training: 100%|██████████| 5/5 [00:01<00:00,  2.52it/s]\n",
      "evaluating: 100%|██████████| 5/5 [00:15<00:00,  3.05s/it]\n",
      "evaluating: 100%|██████████| 1/1 [00:03<00:00,  3.74s/it]\n"
     ]
    },
    {
     "name": "stdout",
     "output_type": "stream",
     "text": [
      "Epoch: 33/100\n"
     ]
    },
    {
     "name": "stderr",
     "output_type": "stream",
     "text": [
      "training: 100%|██████████| 5/5 [00:02<00:00,  2.43it/s]\n",
      "evaluating: 100%|██████████| 5/5 [00:15<00:00,  3.18s/it]\n",
      "evaluating: 100%|██████████| 1/1 [00:03<00:00,  3.74s/it]\n"
     ]
    },
    {
     "name": "stdout",
     "output_type": "stream",
     "text": [
      "Epoch: 34/100\n"
     ]
    },
    {
     "name": "stderr",
     "output_type": "stream",
     "text": [
      "training: 100%|██████████| 5/5 [00:02<00:00,  2.44it/s]\n",
      "evaluating: 100%|██████████| 5/5 [00:16<00:00,  3.25s/it]\n",
      "evaluating: 100%|██████████| 1/1 [00:02<00:00,  2.96s/it]\n"
     ]
    },
    {
     "name": "stdout",
     "output_type": "stream",
     "text": [
      "Epoch: 35/100\n"
     ]
    },
    {
     "name": "stderr",
     "output_type": "stream",
     "text": [
      "training: 100%|██████████| 5/5 [00:02<00:00,  2.29it/s]\n",
      "evaluating: 100%|██████████| 5/5 [00:16<00:00,  3.21s/it]\n",
      "evaluating: 100%|██████████| 1/1 [00:03<00:00,  3.70s/it]\n"
     ]
    },
    {
     "name": "stdout",
     "output_type": "stream",
     "text": [
      "Epoch: 36/100\n"
     ]
    },
    {
     "name": "stderr",
     "output_type": "stream",
     "text": [
      "training: 100%|██████████| 5/5 [00:02<00:00,  2.35it/s]\n",
      "evaluating: 100%|██████████| 5/5 [00:15<00:00,  3.07s/it]\n",
      "evaluating: 100%|██████████| 1/1 [00:03<00:00,  3.75s/it]\n"
     ]
    },
    {
     "name": "stdout",
     "output_type": "stream",
     "text": [
      "Epoch: 37/100\n"
     ]
    },
    {
     "name": "stderr",
     "output_type": "stream",
     "text": [
      "training: 100%|██████████| 5/5 [00:02<00:00,  2.32it/s]\n",
      "evaluating: 100%|██████████| 5/5 [00:15<00:00,  3.06s/it]\n",
      "evaluating: 100%|██████████| 1/1 [00:03<00:00,  3.77s/it]\n"
     ]
    },
    {
     "name": "stdout",
     "output_type": "stream",
     "text": [
      "Epoch: 38/100\n"
     ]
    },
    {
     "name": "stderr",
     "output_type": "stream",
     "text": [
      "training: 100%|██████████| 5/5 [00:02<00:00,  2.34it/s]\n",
      "evaluating: 100%|██████████| 5/5 [00:15<00:00,  3.07s/it]\n",
      "evaluating: 100%|██████████| 1/1 [00:03<00:00,  3.54s/it]\n"
     ]
    },
    {
     "name": "stdout",
     "output_type": "stream",
     "text": [
      "Epoch: 39/100\n"
     ]
    },
    {
     "name": "stderr",
     "output_type": "stream",
     "text": [
      "training: 100%|██████████| 5/5 [00:02<00:00,  2.42it/s]\n",
      "evaluating: 100%|██████████| 5/5 [00:14<00:00,  2.99s/it]\n",
      "evaluating: 100%|██████████| 1/1 [00:02<00:00,  2.87s/it]\n"
     ]
    },
    {
     "name": "stdout",
     "output_type": "stream",
     "text": [
      "Epoch: 40/100\n"
     ]
    },
    {
     "name": "stderr",
     "output_type": "stream",
     "text": [
      "training: 100%|██████████| 5/5 [00:02<00:00,  2.45it/s]\n",
      "evaluating: 100%|██████████| 5/5 [00:15<00:00,  3.06s/it]\n",
      "evaluating: 100%|██████████| 1/1 [00:03<00:00,  3.77s/it]\n"
     ]
    },
    {
     "name": "stdout",
     "output_type": "stream",
     "text": [
      "Epoch: 41/100\n"
     ]
    },
    {
     "name": "stderr",
     "output_type": "stream",
     "text": [
      "training: 100%|██████████| 5/5 [00:02<00:00,  2.49it/s]\n",
      "evaluating: 100%|██████████| 5/5 [00:16<00:00,  3.26s/it]\n",
      "evaluating: 100%|██████████| 1/1 [00:03<00:00,  3.04s/it]\n"
     ]
    },
    {
     "name": "stdout",
     "output_type": "stream",
     "text": [
      "Epoch: 42/100\n"
     ]
    },
    {
     "name": "stderr",
     "output_type": "stream",
     "text": [
      "training: 100%|██████████| 5/5 [00:01<00:00,  2.52it/s]\n",
      "evaluating: 100%|██████████| 5/5 [00:15<00:00,  3.01s/it]\n",
      "evaluating: 100%|██████████| 1/1 [00:03<00:00,  3.80s/it]\n"
     ]
    },
    {
     "name": "stdout",
     "output_type": "stream",
     "text": [
      "Epoch: 43/100\n"
     ]
    },
    {
     "name": "stderr",
     "output_type": "stream",
     "text": [
      "training: 100%|██████████| 5/5 [00:02<00:00,  2.39it/s]\n",
      "evaluating: 100%|██████████| 5/5 [00:15<00:00,  3.02s/it]\n",
      "evaluating: 100%|██████████| 1/1 [00:03<00:00,  3.59s/it]\n"
     ]
    },
    {
     "name": "stdout",
     "output_type": "stream",
     "text": [
      "Epoch: 44/100\n"
     ]
    },
    {
     "name": "stderr",
     "output_type": "stream",
     "text": [
      "training: 100%|██████████| 5/5 [00:02<00:00,  2.37it/s]\n",
      "evaluating: 100%|██████████| 5/5 [00:16<00:00,  3.25s/it]\n",
      "evaluating: 100%|██████████| 1/1 [00:03<00:00,  3.72s/it]\n"
     ]
    },
    {
     "name": "stdout",
     "output_type": "stream",
     "text": [
      "Epoch: 45/100\n"
     ]
    },
    {
     "name": "stderr",
     "output_type": "stream",
     "text": [
      "training: 100%|██████████| 5/5 [00:02<00:00,  2.35it/s]\n",
      "evaluating: 100%|██████████| 5/5 [00:14<00:00,  2.99s/it]\n",
      "evaluating: 100%|██████████| 1/1 [00:03<00:00,  3.39s/it]\n"
     ]
    },
    {
     "name": "stdout",
     "output_type": "stream",
     "text": [
      "Epoch: 46/100\n"
     ]
    },
    {
     "name": "stderr",
     "output_type": "stream",
     "text": [
      "training: 100%|██████████| 5/5 [00:02<00:00,  2.38it/s]\n",
      "evaluating: 100%|██████████| 5/5 [00:15<00:00,  3.20s/it]\n",
      "evaluating: 100%|██████████| 1/1 [00:03<00:00,  3.34s/it]\n"
     ]
    },
    {
     "name": "stdout",
     "output_type": "stream",
     "text": [
      "Epoch: 47/100\n"
     ]
    },
    {
     "name": "stderr",
     "output_type": "stream",
     "text": [
      "training: 100%|██████████| 5/5 [00:02<00:00,  2.28it/s]\n",
      "evaluating: 100%|██████████| 5/5 [00:16<00:00,  3.24s/it]\n",
      "evaluating: 100%|██████████| 1/1 [00:03<00:00,  3.67s/it]\n"
     ]
    },
    {
     "name": "stdout",
     "output_type": "stream",
     "text": [
      "Epoch: 48/100\n"
     ]
    },
    {
     "name": "stderr",
     "output_type": "stream",
     "text": [
      "training: 100%|██████████| 5/5 [00:02<00:00,  2.27it/s]\n",
      "evaluating: 100%|██████████| 5/5 [00:15<00:00,  3.18s/it]\n",
      "evaluating: 100%|██████████| 1/1 [00:03<00:00,  3.32s/it]\n"
     ]
    },
    {
     "name": "stdout",
     "output_type": "stream",
     "text": [
      "Epoch: 49/100\n"
     ]
    },
    {
     "name": "stderr",
     "output_type": "stream",
     "text": [
      "training: 100%|██████████| 5/5 [00:02<00:00,  2.45it/s]\n",
      "evaluating: 100%|██████████| 5/5 [00:16<00:00,  3.22s/it]\n",
      "evaluating: 100%|██████████| 1/1 [00:03<00:00,  3.38s/it]\n"
     ]
    },
    {
     "name": "stdout",
     "output_type": "stream",
     "text": [
      "Epoch: 50/100\n"
     ]
    },
    {
     "name": "stderr",
     "output_type": "stream",
     "text": [
      "training: 100%|██████████| 5/5 [00:02<00:00,  2.33it/s]\n",
      "evaluating: 100%|██████████| 5/5 [00:14<00:00,  2.94s/it]\n",
      "evaluating: 100%|██████████| 1/1 [00:03<00:00,  3.69s/it]\n"
     ]
    },
    {
     "name": "stdout",
     "output_type": "stream",
     "text": [
      "Epoch: 51/100\n"
     ]
    },
    {
     "name": "stderr",
     "output_type": "stream",
     "text": [
      "training: 100%|██████████| 5/5 [00:02<00:00,  2.42it/s]\n",
      "evaluating: 100%|██████████| 5/5 [00:13<00:00,  2.78s/it]\n",
      "evaluating: 100%|██████████| 1/1 [00:03<00:00,  3.78s/it]\n"
     ]
    },
    {
     "name": "stdout",
     "output_type": "stream",
     "text": [
      "Epoch: 52/100\n"
     ]
    },
    {
     "name": "stderr",
     "output_type": "stream",
     "text": [
      "training: 100%|██████████| 5/5 [00:02<00:00,  2.42it/s]\n",
      "evaluating: 100%|██████████| 5/5 [00:15<00:00,  3.03s/it]\n",
      "evaluating: 100%|██████████| 1/1 [00:03<00:00,  3.32s/it]\n"
     ]
    },
    {
     "name": "stdout",
     "output_type": "stream",
     "text": [
      "Epoch: 53/100\n"
     ]
    },
    {
     "name": "stderr",
     "output_type": "stream",
     "text": [
      "training: 100%|██████████| 5/5 [00:02<00:00,  2.34it/s]\n",
      "evaluating: 100%|██████████| 5/5 [00:15<00:00,  3.15s/it]\n",
      "evaluating: 100%|██████████| 1/1 [00:03<00:00,  3.71s/it]\n"
     ]
    },
    {
     "name": "stdout",
     "output_type": "stream",
     "text": [
      "Epoch: 54/100\n"
     ]
    },
    {
     "name": "stderr",
     "output_type": "stream",
     "text": [
      "training: 100%|██████████| 5/5 [00:02<00:00,  2.26it/s]\n",
      "evaluating: 100%|██████████| 5/5 [00:15<00:00,  3.06s/it]\n",
      "evaluating: 100%|██████████| 1/1 [00:03<00:00,  3.70s/it]\n"
     ]
    },
    {
     "name": "stdout",
     "output_type": "stream",
     "text": [
      "Epoch: 55/100\n"
     ]
    },
    {
     "name": "stderr",
     "output_type": "stream",
     "text": [
      "training: 100%|██████████| 5/5 [00:02<00:00,  2.28it/s]\n",
      "evaluating: 100%|██████████| 5/5 [00:16<00:00,  3.22s/it]\n",
      "evaluating: 100%|██████████| 1/1 [00:03<00:00,  3.78s/it]\n"
     ]
    },
    {
     "name": "stdout",
     "output_type": "stream",
     "text": [
      "Epoch: 56/100\n"
     ]
    },
    {
     "name": "stderr",
     "output_type": "stream",
     "text": [
      "training: 100%|██████████| 5/5 [00:02<00:00,  2.26it/s]\n",
      "evaluating: 100%|██████████| 5/5 [00:15<00:00,  3.02s/it]\n",
      "evaluating: 100%|██████████| 1/1 [00:03<00:00,  3.27s/it]\n"
     ]
    },
    {
     "name": "stdout",
     "output_type": "stream",
     "text": [
      "Epoch: 57/100\n"
     ]
    },
    {
     "name": "stderr",
     "output_type": "stream",
     "text": [
      "training: 100%|██████████| 5/5 [00:02<00:00,  2.03it/s]\n",
      "evaluating: 100%|██████████| 5/5 [00:14<00:00,  2.96s/it]\n",
      "evaluating: 100%|██████████| 1/1 [00:03<00:00,  3.70s/it]\n"
     ]
    },
    {
     "name": "stdout",
     "output_type": "stream",
     "text": [
      "Epoch: 58/100\n"
     ]
    },
    {
     "name": "stderr",
     "output_type": "stream",
     "text": [
      "training: 100%|██████████| 5/5 [00:02<00:00,  2.47it/s]\n",
      "evaluating: 100%|██████████| 5/5 [00:16<00:00,  3.24s/it]\n",
      "evaluating: 100%|██████████| 1/1 [00:03<00:00,  3.43s/it]\n"
     ]
    },
    {
     "name": "stdout",
     "output_type": "stream",
     "text": [
      "Epoch: 59/100\n"
     ]
    },
    {
     "name": "stderr",
     "output_type": "stream",
     "text": [
      "training: 100%|██████████| 5/5 [00:02<00:00,  2.49it/s]\n",
      "evaluating: 100%|██████████| 5/5 [00:15<00:00,  3.09s/it]\n",
      "evaluating: 100%|██████████| 1/1 [00:02<00:00,  2.92s/it]\n"
     ]
    },
    {
     "name": "stdout",
     "output_type": "stream",
     "text": [
      "Epoch: 60/100\n"
     ]
    },
    {
     "name": "stderr",
     "output_type": "stream",
     "text": [
      "training: 100%|██████████| 5/5 [00:01<00:00,  2.55it/s]\n",
      "evaluating: 100%|██████████| 5/5 [00:15<00:00,  3.15s/it]\n",
      "evaluating: 100%|██████████| 1/1 [00:03<00:00,  3.74s/it]\n"
     ]
    },
    {
     "name": "stdout",
     "output_type": "stream",
     "text": [
      "Epoch: 61/100\n"
     ]
    },
    {
     "name": "stderr",
     "output_type": "stream",
     "text": [
      "training: 100%|██████████| 5/5 [00:02<00:00,  2.49it/s]\n",
      "evaluating: 100%|██████████| 5/5 [00:15<00:00,  3.20s/it]\n",
      "evaluating: 100%|██████████| 1/1 [00:03<00:00,  3.73s/it]\n"
     ]
    },
    {
     "name": "stdout",
     "output_type": "stream",
     "text": [
      "Epoch: 62/100\n"
     ]
    },
    {
     "name": "stderr",
     "output_type": "stream",
     "text": [
      "training: 100%|██████████| 5/5 [00:02<00:00,  2.36it/s]\n",
      "evaluating: 100%|██████████| 5/5 [00:16<00:00,  3.26s/it]\n",
      "evaluating: 100%|██████████| 1/1 [00:03<00:00,  3.77s/it]\n"
     ]
    },
    {
     "name": "stdout",
     "output_type": "stream",
     "text": [
      "Epoch: 63/100\n"
     ]
    },
    {
     "name": "stderr",
     "output_type": "stream",
     "text": [
      "training: 100%|██████████| 5/5 [00:02<00:00,  2.30it/s]\n",
      "evaluating: 100%|██████████| 5/5 [00:15<00:00,  3.16s/it]\n",
      "evaluating: 100%|██████████| 1/1 [00:03<00:00,  3.74s/it]\n"
     ]
    },
    {
     "name": "stdout",
     "output_type": "stream",
     "text": [
      "Epoch: 64/100\n"
     ]
    },
    {
     "name": "stderr",
     "output_type": "stream",
     "text": [
      "training: 100%|██████████| 5/5 [00:02<00:00,  2.46it/s]\n",
      "evaluating: 100%|██████████| 5/5 [00:14<00:00,  2.90s/it]\n",
      "evaluating: 100%|██████████| 1/1 [00:03<00:00,  3.37s/it]\n"
     ]
    },
    {
     "name": "stdout",
     "output_type": "stream",
     "text": [
      "Epoch: 65/100\n"
     ]
    },
    {
     "name": "stderr",
     "output_type": "stream",
     "text": [
      "training: 100%|██████████| 5/5 [00:02<00:00,  2.29it/s]\n",
      "evaluating: 100%|██████████| 5/5 [00:14<00:00,  2.89s/it]\n",
      "evaluating: 100%|██████████| 1/1 [00:03<00:00,  3.75s/it]\n"
     ]
    },
    {
     "name": "stdout",
     "output_type": "stream",
     "text": [
      "Epoch: 66/100\n"
     ]
    },
    {
     "name": "stderr",
     "output_type": "stream",
     "text": [
      "training: 100%|██████████| 5/5 [00:02<00:00,  2.29it/s]\n",
      "evaluating: 100%|██████████| 5/5 [00:16<00:00,  3.23s/it]\n",
      "evaluating: 100%|██████████| 1/1 [00:03<00:00,  3.82s/it]\n"
     ]
    },
    {
     "name": "stdout",
     "output_type": "stream",
     "text": [
      "Epoch: 67/100\n"
     ]
    },
    {
     "name": "stderr",
     "output_type": "stream",
     "text": [
      "training: 100%|██████████| 5/5 [00:02<00:00,  2.17it/s]\n",
      "evaluating: 100%|██████████| 5/5 [00:16<00:00,  3.24s/it]\n",
      "evaluating: 100%|██████████| 1/1 [00:03<00:00,  3.74s/it]\n"
     ]
    },
    {
     "name": "stdout",
     "output_type": "stream",
     "text": [
      "Epoch: 68/100\n"
     ]
    },
    {
     "name": "stderr",
     "output_type": "stream",
     "text": [
      "training: 100%|██████████| 5/5 [00:01<00:00,  2.54it/s]\n",
      "evaluating: 100%|██████████| 5/5 [00:15<00:00,  3.10s/it]\n",
      "evaluating: 100%|██████████| 1/1 [00:03<00:00,  3.77s/it]\n"
     ]
    },
    {
     "name": "stdout",
     "output_type": "stream",
     "text": [
      "Epoch: 69/100\n"
     ]
    },
    {
     "name": "stderr",
     "output_type": "stream",
     "text": [
      "training: 100%|██████████| 5/5 [00:02<00:00,  2.43it/s]\n",
      "evaluating: 100%|██████████| 5/5 [00:15<00:00,  3.16s/it]\n",
      "evaluating: 100%|██████████| 1/1 [00:03<00:00,  3.77s/it]\n"
     ]
    },
    {
     "name": "stdout",
     "output_type": "stream",
     "text": [
      "Epoch: 70/100\n"
     ]
    },
    {
     "name": "stderr",
     "output_type": "stream",
     "text": [
      "training: 100%|██████████| 5/5 [00:02<00:00,  2.49it/s]\n",
      "evaluating: 100%|██████████| 5/5 [00:16<00:00,  3.23s/it]\n",
      "evaluating: 100%|██████████| 1/1 [00:03<00:00,  3.11s/it]\n"
     ]
    },
    {
     "name": "stdout",
     "output_type": "stream",
     "text": [
      "Epoch: 71/100\n"
     ]
    },
    {
     "name": "stderr",
     "output_type": "stream",
     "text": [
      "training: 100%|██████████| 5/5 [00:01<00:00,  2.53it/s]\n",
      "evaluating: 100%|██████████| 5/5 [00:15<00:00,  3.18s/it]\n",
      "evaluating: 100%|██████████| 1/1 [00:03<00:00,  3.74s/it]\n"
     ]
    },
    {
     "name": "stdout",
     "output_type": "stream",
     "text": [
      "Epoch: 72/100\n"
     ]
    },
    {
     "name": "stderr",
     "output_type": "stream",
     "text": [
      "training: 100%|██████████| 5/5 [00:02<00:00,  2.26it/s]\n",
      "evaluating: 100%|██████████| 5/5 [00:15<00:00,  3.16s/it]\n",
      "evaluating: 100%|██████████| 1/1 [00:03<00:00,  3.69s/it]\n"
     ]
    },
    {
     "name": "stdout",
     "output_type": "stream",
     "text": [
      "Epoch: 73/100\n"
     ]
    },
    {
     "name": "stderr",
     "output_type": "stream",
     "text": [
      "training: 100%|██████████| 5/5 [00:02<00:00,  2.30it/s]\n",
      "evaluating: 100%|██████████| 5/5 [00:14<00:00,  2.82s/it]\n",
      "evaluating: 100%|██████████| 1/1 [00:03<00:00,  3.14s/it]\n"
     ]
    },
    {
     "name": "stdout",
     "output_type": "stream",
     "text": [
      "Epoch: 74/100\n"
     ]
    },
    {
     "name": "stderr",
     "output_type": "stream",
     "text": [
      "training: 100%|██████████| 5/5 [00:02<00:00,  2.33it/s]\n",
      "evaluating: 100%|██████████| 5/5 [00:15<00:00,  3.15s/it]\n",
      "evaluating: 100%|██████████| 1/1 [00:03<00:00,  3.76s/it]\n"
     ]
    },
    {
     "name": "stdout",
     "output_type": "stream",
     "text": [
      "Epoch: 75/100\n"
     ]
    },
    {
     "name": "stderr",
     "output_type": "stream",
     "text": [
      "training: 100%|██████████| 5/5 [00:02<00:00,  2.26it/s]\n",
      "evaluating: 100%|██████████| 5/5 [00:15<00:00,  3.09s/it]\n",
      "evaluating: 100%|██████████| 1/1 [00:03<00:00,  3.08s/it]\n"
     ]
    },
    {
     "name": "stdout",
     "output_type": "stream",
     "text": [
      "Epoch: 76/100\n"
     ]
    },
    {
     "name": "stderr",
     "output_type": "stream",
     "text": [
      "training: 100%|██████████| 5/5 [00:02<00:00,  2.32it/s]\n",
      "evaluating: 100%|██████████| 5/5 [00:15<00:00,  3.16s/it]\n",
      "evaluating: 100%|██████████| 1/1 [00:03<00:00,  3.75s/it]\n"
     ]
    },
    {
     "name": "stdout",
     "output_type": "stream",
     "text": [
      "Epoch: 77/100\n"
     ]
    },
    {
     "name": "stderr",
     "output_type": "stream",
     "text": [
      "training: 100%|██████████| 5/5 [00:02<00:00,  2.32it/s]\n",
      "evaluating: 100%|██████████| 5/5 [00:16<00:00,  3.24s/it]\n",
      "evaluating: 100%|██████████| 1/1 [00:03<00:00,  3.82s/it]\n"
     ]
    },
    {
     "name": "stdout",
     "output_type": "stream",
     "text": [
      "Epoch: 78/100\n"
     ]
    },
    {
     "name": "stderr",
     "output_type": "stream",
     "text": [
      "training: 100%|██████████| 5/5 [00:01<00:00,  2.51it/s]\n",
      "evaluating: 100%|██████████| 5/5 [00:15<00:00,  3.14s/it]\n",
      "evaluating: 100%|██████████| 1/1 [00:03<00:00,  3.71s/it]\n"
     ]
    },
    {
     "name": "stdout",
     "output_type": "stream",
     "text": [
      "Epoch: 79/100\n"
     ]
    },
    {
     "name": "stderr",
     "output_type": "stream",
     "text": [
      "training: 100%|██████████| 5/5 [00:02<00:00,  2.42it/s]\n",
      "evaluating: 100%|██████████| 5/5 [00:15<00:00,  3.04s/it]\n",
      "evaluating: 100%|██████████| 1/1 [00:03<00:00,  3.76s/it]\n"
     ]
    },
    {
     "name": "stdout",
     "output_type": "stream",
     "text": [
      "Epoch: 80/100\n"
     ]
    },
    {
     "name": "stderr",
     "output_type": "stream",
     "text": [
      "training: 100%|██████████| 5/5 [00:02<00:00,  2.38it/s]\n",
      "evaluating: 100%|██████████| 5/5 [00:16<00:00,  3.27s/it]\n",
      "evaluating: 100%|██████████| 1/1 [00:03<00:00,  3.50s/it]\n"
     ]
    },
    {
     "name": "stdout",
     "output_type": "stream",
     "text": [
      "Epoch: 81/100\n"
     ]
    },
    {
     "name": "stderr",
     "output_type": "stream",
     "text": [
      "training: 100%|██████████| 5/5 [00:02<00:00,  2.27it/s]\n",
      "evaluating: 100%|██████████| 5/5 [00:15<00:00,  3.12s/it]\n",
      "evaluating: 100%|██████████| 1/1 [00:03<00:00,  3.32s/it]\n"
     ]
    },
    {
     "name": "stdout",
     "output_type": "stream",
     "text": [
      "Epoch: 82/100\n"
     ]
    },
    {
     "name": "stderr",
     "output_type": "stream",
     "text": [
      "training: 100%|██████████| 5/5 [00:02<00:00,  2.36it/s]\n",
      "evaluating: 100%|██████████| 5/5 [00:16<00:00,  3.21s/it]\n",
      "evaluating: 100%|██████████| 1/1 [00:03<00:00,  3.81s/it]\n"
     ]
    },
    {
     "name": "stdout",
     "output_type": "stream",
     "text": [
      "Epoch: 83/100\n"
     ]
    },
    {
     "name": "stderr",
     "output_type": "stream",
     "text": [
      "training: 100%|██████████| 5/5 [00:02<00:00,  2.30it/s]\n",
      "evaluating: 100%|██████████| 5/5 [00:14<00:00,  2.98s/it]\n",
      "evaluating: 100%|██████████| 1/1 [00:03<00:00,  3.81s/it]\n"
     ]
    },
    {
     "name": "stdout",
     "output_type": "stream",
     "text": [
      "Epoch: 84/100\n"
     ]
    },
    {
     "name": "stderr",
     "output_type": "stream",
     "text": [
      "training: 100%|██████████| 5/5 [00:02<00:00,  2.34it/s]\n",
      "evaluating: 100%|██████████| 5/5 [00:15<00:00,  3.17s/it]\n",
      "evaluating: 100%|██████████| 1/1 [00:03<00:00,  3.80s/it]\n"
     ]
    },
    {
     "name": "stdout",
     "output_type": "stream",
     "text": [
      "Epoch: 85/100\n"
     ]
    },
    {
     "name": "stderr",
     "output_type": "stream",
     "text": [
      "training: 100%|██████████| 5/5 [00:02<00:00,  2.43it/s]\n",
      "evaluating: 100%|██████████| 5/5 [00:16<00:00,  3.27s/it]\n",
      "evaluating: 100%|██████████| 1/1 [00:03<00:00,  3.74s/it]\n"
     ]
    },
    {
     "name": "stdout",
     "output_type": "stream",
     "text": [
      "Epoch: 86/100\n"
     ]
    },
    {
     "name": "stderr",
     "output_type": "stream",
     "text": [
      "training: 100%|██████████| 5/5 [00:02<00:00,  2.50it/s]\n",
      "evaluating: 100%|██████████| 5/5 [00:15<00:00,  3.16s/it]\n",
      "evaluating: 100%|██████████| 1/1 [00:03<00:00,  3.54s/it]\n"
     ]
    },
    {
     "name": "stdout",
     "output_type": "stream",
     "text": [
      "Epoch: 87/100\n"
     ]
    },
    {
     "name": "stderr",
     "output_type": "stream",
     "text": [
      "training: 100%|██████████| 5/5 [00:02<00:00,  2.47it/s]\n",
      "evaluating: 100%|██████████| 5/5 [00:13<00:00,  2.72s/it]\n",
      "evaluating: 100%|██████████| 1/1 [00:03<00:00,  3.36s/it]\n"
     ]
    },
    {
     "name": "stdout",
     "output_type": "stream",
     "text": [
      "Epoch: 88/100\n"
     ]
    },
    {
     "name": "stderr",
     "output_type": "stream",
     "text": [
      "training: 100%|██████████| 5/5 [00:02<00:00,  2.38it/s]\n",
      "evaluating: 100%|██████████| 5/5 [00:15<00:00,  3.14s/it]\n",
      "evaluating: 100%|██████████| 1/1 [00:03<00:00,  3.28s/it]\n"
     ]
    },
    {
     "name": "stdout",
     "output_type": "stream",
     "text": [
      "Epoch: 89/100\n"
     ]
    },
    {
     "name": "stderr",
     "output_type": "stream",
     "text": [
      "training: 100%|██████████| 5/5 [00:02<00:00,  2.29it/s]\n",
      "evaluating: 100%|██████████| 5/5 [00:16<00:00,  3.24s/it]\n",
      "evaluating: 100%|██████████| 1/1 [00:03<00:00,  3.36s/it]\n"
     ]
    },
    {
     "name": "stdout",
     "output_type": "stream",
     "text": [
      "Epoch: 90/100\n"
     ]
    },
    {
     "name": "stderr",
     "output_type": "stream",
     "text": [
      "training: 100%|██████████| 5/5 [00:02<00:00,  2.29it/s]\n",
      "evaluating: 100%|██████████| 5/5 [00:16<00:00,  3.23s/it]\n",
      "evaluating: 100%|██████████| 1/1 [00:03<00:00,  3.65s/it]\n"
     ]
    },
    {
     "name": "stdout",
     "output_type": "stream",
     "text": [
      "Epoch: 91/100\n"
     ]
    },
    {
     "name": "stderr",
     "output_type": "stream",
     "text": [
      "training: 100%|██████████| 5/5 [00:02<00:00,  2.37it/s]\n",
      "evaluating: 100%|██████████| 5/5 [00:15<00:00,  3.17s/it]\n",
      "evaluating: 100%|██████████| 1/1 [00:03<00:00,  3.53s/it]\n"
     ]
    },
    {
     "name": "stdout",
     "output_type": "stream",
     "text": [
      "Epoch: 92/100\n"
     ]
    },
    {
     "name": "stderr",
     "output_type": "stream",
     "text": [
      "training: 100%|██████████| 5/5 [00:02<00:00,  2.29it/s]\n",
      "evaluating: 100%|██████████| 5/5 [00:15<00:00,  3.02s/it]\n",
      "evaluating: 100%|██████████| 1/1 [00:03<00:00,  3.76s/it]\n"
     ]
    },
    {
     "name": "stdout",
     "output_type": "stream",
     "text": [
      "Epoch: 93/100\n"
     ]
    },
    {
     "name": "stderr",
     "output_type": "stream",
     "text": [
      "training: 100%|██████████| 5/5 [00:02<00:00,  2.31it/s]\n",
      "evaluating: 100%|██████████| 5/5 [00:14<00:00,  2.96s/it]\n",
      "evaluating: 100%|██████████| 1/1 [00:03<00:00,  3.79s/it]\n"
     ]
    },
    {
     "name": "stdout",
     "output_type": "stream",
     "text": [
      "Epoch: 94/100\n"
     ]
    },
    {
     "name": "stderr",
     "output_type": "stream",
     "text": [
      "training: 100%|██████████| 5/5 [00:02<00:00,  2.35it/s]\n",
      "evaluating: 100%|██████████| 5/5 [00:14<00:00,  3.00s/it]\n",
      "evaluating: 100%|██████████| 1/1 [00:03<00:00,  3.80s/it]\n"
     ]
    },
    {
     "name": "stdout",
     "output_type": "stream",
     "text": [
      "Epoch: 95/100\n"
     ]
    },
    {
     "name": "stderr",
     "output_type": "stream",
     "text": [
      "training: 100%|██████████| 5/5 [00:01<00:00,  2.52it/s]\n",
      "evaluating: 100%|██████████| 5/5 [00:14<00:00,  2.98s/it]\n",
      "evaluating: 100%|██████████| 1/1 [00:03<00:00,  3.41s/it]\n"
     ]
    },
    {
     "name": "stdout",
     "output_type": "stream",
     "text": [
      "Epoch: 96/100\n"
     ]
    },
    {
     "name": "stderr",
     "output_type": "stream",
     "text": [
      "training: 100%|██████████| 5/5 [00:02<00:00,  2.41it/s]\n",
      "evaluating: 100%|██████████| 5/5 [00:15<00:00,  3.18s/it]\n",
      "evaluating: 100%|██████████| 1/1 [00:02<00:00,  2.60s/it]\n"
     ]
    },
    {
     "name": "stdout",
     "output_type": "stream",
     "text": [
      "Epoch: 97/100\n"
     ]
    },
    {
     "name": "stderr",
     "output_type": "stream",
     "text": [
      "training: 100%|██████████| 5/5 [00:02<00:00,  2.48it/s]\n",
      "evaluating: 100%|██████████| 5/5 [00:16<00:00,  3.24s/it]\n",
      "evaluating: 100%|██████████| 1/1 [00:03<00:00,  3.90s/it]\n"
     ]
    },
    {
     "name": "stdout",
     "output_type": "stream",
     "text": [
      "Epoch: 98/100\n"
     ]
    },
    {
     "name": "stderr",
     "output_type": "stream",
     "text": [
      "training: 100%|██████████| 5/5 [00:02<00:00,  2.44it/s]\n",
      "evaluating: 100%|██████████| 5/5 [00:15<00:00,  3.08s/it]\n",
      "evaluating: 100%|██████████| 1/1 [00:03<00:00,  3.10s/it]\n"
     ]
    },
    {
     "name": "stdout",
     "output_type": "stream",
     "text": [
      "Epoch: 99/100\n"
     ]
    },
    {
     "name": "stderr",
     "output_type": "stream",
     "text": [
      "training: 100%|██████████| 5/5 [00:02<00:00,  2.29it/s]\n",
      "evaluating: 100%|██████████| 5/5 [00:15<00:00,  3.07s/it]\n",
      "evaluating: 100%|██████████| 1/1 [00:03<00:00,  3.81s/it]"
     ]
    },
    {
     "name": "stdout",
     "output_type": "stream",
     "text": [
      "Run time: 2265 seconds, 38 minutes\n"
     ]
    },
    {
     "name": "stderr",
     "output_type": "stream",
     "text": [
      "\n"
     ]
    }
   ],
   "source": [
    "st = time.time()\n",
    "model = GNN(num_nodes=num_nodes, num_relations=num_relations, num_layers=3, hidden_channels=200, learning_rate=5e-3, dropout_prob=0.2, regularization_val=1e-2, same_as_index=same_as_index, relation_ratio=relation_ratio, node_from_ontology=node_from_ontology, nodes_ontology_1=nodes_ontology_1, nodes_ontology_2=nodes_ontology_2)\n",
    "epochs = 100\n",
    "\n",
    "for relation in to_evaluate:\n",
    "    filename_train = f'../results/{filename}_train_results_round3.csv'\n",
    "    filename_test = f'../results/{filename}_test_results_round3.csv'\n",
    "\n",
    "with open(filename_train, 'w') as csvfile:\n",
    "    csvwriter = csv.writer(csvfile)\n",
    "    headerList = ['epoch', 'loss']\n",
    "    for relation in to_evaluate:\n",
    "        headerList.extend([f'{relation.rsplit(\"#\", 1)[1]}_train_hits@1',f'{relation.rsplit(\"#\", 1)[1]}_train_hits@10',f'{relation.rsplit(\"#\", 1)[1]}_train_MR',f'{relation.rsplit(\"#\", 1)[1]}_train_MRR', f'{relation.rsplit(\"#\", 1)[1]}_train_precision',f'{relation.rsplit(\"#\", 1)[1]}_train_recall',f'{relation.rsplit(\"#\", 1)[1]}_train_f1'])\n",
    "    csvwriter.writerow(headerList)\n",
    "    \n",
    "with open(filename_test, 'w') as csvfile:\n",
    "    csvwriter = csv.writer(csvfile)\n",
    "    headerList = ['epoch']\n",
    "    for relation in to_evaluate:\n",
    "        headerList.extend([f'{relation.rsplit(\"#\", 1)[1]}_test_hits@1',f'{relation.rsplit(\"#\", 1)[1]}_test_hits@10',f'{relation.rsplit(\"#\", 1)[1]}_test_MR',f'{relation.rsplit(\"#\", 1)[1]}_test_MRR', f'{relation.rsplit(\"#\", 1)[1]}_test_precision',f'{relation.rsplit(\"#\", 1)[1]}_test_recall',f'{relation.rsplit(\"#\", 1)[1]}_test_f1'])\n",
    "    csvwriter.writerow(headerList)\n",
    "\n",
    "for epoch in range(epochs):\n",
    "    print(f'Epoch: {epoch}/{epochs}')\n",
    "    loss = model.train(train_loader, data['train_pos_edge_index'])\n",
    "    \n",
    "    hits1_train, hits10_train, mr_train, mrr_train = model.eval(train_loader, train_pos_edge_adj, to_evaluate)\n",
    "    row = [epoch, loss]\n",
    "    for i, relation in enumerate(to_evaluate):\n",
    "        _, _, _, _, _, _, precision_train, recall_train, f1_train = model.eval_PRF(train_loader, i)\n",
    "        row.extend([hits1_train[i].item(), hits10_train[i].item(), mr_train[i].item(), mrr_train[i].item(), precision_train, recall_train, f1_train])\n",
    "        \n",
    "    \n",
    "    with open(filename_train, 'a') as csvfile:     \n",
    "        csvwriter = csv.writer(csvfile)\n",
    "        csvwriter.writerow(row)\n",
    "\n",
    "    hits1_test, hits10_test, mr_test, mrr_test = model.eval(test_loader, test_pos_edge_adj, to_evaluate)\n",
    "    row = [epoch]\n",
    "    for i, relation in enumerate(to_evaluate):\n",
    "        _, _, _, _, _, _, precision_test, recall_test, f1_test = model.eval_PRF(test_loader, i)\n",
    "        row.extend([hits1_test[i].item(), hits10_test[i].item(), mr_test[i].item(), mrr_test[i].item(), precision_test, recall_test, f1_test])\n",
    "    \n",
    "    with open(filename_test, 'a') as csvfile:     \n",
    "        csvwriter = csv.writer(csvfile)\n",
    "        csvwriter.writerow(row)\n",
    "\n",
    "et = time.time()\n",
    "elapsed_time = et - st\n",
    "print(f'Run time: {elapsed_time:.0f} seconds, {elapsed_time/60:.0f} minutes')"
   ]
  },
  {
   "cell_type": "code",
   "execution_count": null,
   "id": "3f3000a6",
   "metadata": {},
   "outputs": [],
   "source": [
    "#try with originsl param\n",
    "#remove duplicated from data "
   ]
  }
 ],
 "metadata": {
  "colab": {
   "provenance": []
  },
  "kernelspec": {
   "display_name": "Python 3",
   "language": "python",
   "name": "python3"
  },
  "language_info": {
   "codemirror_mode": {
    "name": "ipython",
    "version": 3
   },
   "file_extension": ".py",
   "mimetype": "text/x-python",
   "name": "python",
   "nbconvert_exporter": "python",
   "pygments_lexer": "ipython3",
   "version": "3.10.12"
  }
 },
 "nbformat": 4,
 "nbformat_minor": 5
}
